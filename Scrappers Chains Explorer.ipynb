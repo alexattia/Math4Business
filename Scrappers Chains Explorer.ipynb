{
 "cells": [
  {
   "cell_type": "code",
   "execution_count": 1,
   "metadata": {
    "ExecuteTime": {
     "end_time": "2017-11-26T14:50:44.752503Z",
     "start_time": "2017-11-26T14:50:44.214583Z"
    }
   },
   "outputs": [],
   "source": [
    "from selenium import webdriver\n",
    "import numpy as np\n",
    "import glob\n",
    "import os\n",
    "import time\n",
    "import datetime\n",
    "import pandas as pd\n",
    "import re\n",
    "import matplotlib.pyplot as plt\n",
    "from bs4 import BeautifulSoup\n",
    "from selenium.common.exceptions import TimeoutException\n",
    "from datetime import datetime\n",
    "import tqdm\n",
    "%matplotlib inline"
   ]
  },
  {
   "cell_type": "markdown",
   "metadata": {
    "heading_collapsed": true
   },
   "source": [
    "### Scrapping website"
   ]
  },
  {
   "cell_type": "code",
   "execution_count": 2,
   "metadata": {
    "ExecuteTime": {
     "end_time": "2017-11-20T16:35:03.369095Z",
     "start_time": "2017-11-20T16:34:58.469925Z"
    },
    "collapsed": true,
    "hidden": true
   },
   "outputs": [],
   "source": [
    "d = webdriver.PhantomJS()\n",
    "d.get(\"https://bitinfocharts.com/\")"
   ]
  },
  {
   "cell_type": "code",
   "execution_count": 3,
   "metadata": {
    "ExecuteTime": {
     "end_time": "2017-11-20T16:35:05.049976Z",
     "start_time": "2017-11-20T16:35:04.919619Z"
    },
    "collapsed": true,
    "hidden": true
   },
   "outputs": [],
   "source": [
    "table = d.find_element_by_id('main_body').find_element_by_tag_name('tbody').get_attribute('innerHTML')\n",
    "bs = BeautifulSoup(table, \"lxml\")\n",
    "d.quit()"
   ]
  },
  {
   "cell_type": "code",
   "execution_count": 4,
   "metadata": {
    "ExecuteTime": {
     "end_time": "2017-11-20T16:35:05.165508Z",
     "start_time": "2017-11-20T16:35:05.051477Z"
    },
    "collapsed": true,
    "hidden": true,
    "scrolled": true
   },
   "outputs": [],
   "source": [
    "df = pd.DataFrame()\n",
    "df['Columns'] = [k.find('td').getText() for k in bs.find_all('tr')]\n",
    "for crypto in ['btc', 'eth', 'ltc']:\n",
    "    df[crypto.upper()] = [p.getText() for p in bs.find_all(class_='c_%s' % crypto)]"
   ]
  },
  {
   "cell_type": "markdown",
   "metadata": {
    "heading_collapsed": true
   },
   "source": [
    "### Cleaning dataframe"
   ]
  },
  {
   "cell_type": "code",
   "execution_count": 6,
   "metadata": {
    "ExecuteTime": {
     "end_time": "2017-11-20T16:35:06.917308Z",
     "start_time": "2017-11-20T16:35:06.861438Z"
    },
    "collapsed": true,
    "hidden": true,
    "scrolled": true
   },
   "outputs": [],
   "source": [
    "df2 = df.copy()\n",
    "stopwords = ['BTC', 'ETH', 'LTC']\n",
    "def remove_chars(x):\n",
    "    num = re.sub('[^0-9]','', x)\n",
    "    if len(str(num)) < 3:\n",
    "        return x\n",
    "    else:\n",
    "        return num\n",
    "    \n",
    "def convert_number(x):\n",
    "    return float(x.replace(',',''))\n",
    "\n",
    "def remove_crypt(x):\n",
    "    for k in stopwords:\n",
    "        if k in x:\n",
    "            return convert_number(x[:x.index(k)])\n",
    "        \n",
    "def clean_reward(x):\n",
    "    for k in stopwords:\n",
    "        if k in x:\n",
    "            x = x[:x.index(k)]\n",
    "            return tuple(map(float, x.replace(',','').split('+')))\n",
    "\n",
    "df2.loc[0] = df2.loc[0].apply(lambda x:x[:x.index('(')] if '(' in x else x)\n",
    "df2.loc[1] = df2.loc[1].apply(remove_chars)\n",
    "df2.loc[2] = df2.loc[2].apply(lambda x:convert_number(x[x.find('$')+1:x.find('USD')]) if 'USD' in x else x)\n",
    "df2.loc[3] = df2.loc[3].apply(lambda x:convert_number(x[x.find('$')+1:x.find('USD')]) if 'USD' in x else x)\n",
    "df2.iloc[4, 1:] = df2.iloc[4, 1:].apply(convert_number)\n",
    "for p in range(6,10):\n",
    "    df2.iloc[p, 1:] = df2.iloc[p, 1:].apply(remove_crypt)\n",
    "df2.iloc[14, 1:] = df2.iloc[14, 1:].apply(clean_reward)\n",
    "df2.iloc[15, 1:] = df2.iloc[15, 1:].apply(clean_reward)"
   ]
  },
  {
   "cell_type": "code",
   "execution_count": 7,
   "metadata": {
    "ExecuteTime": {
     "end_time": "2017-11-20T16:35:08.217996Z",
     "start_time": "2017-11-20T16:35:08.201012Z"
    },
    "hidden": true
   },
   "outputs": [
    {
     "data": {
      "text/html": [
       "<div>\n",
       "<style scoped>\n",
       "    .dataframe tbody tr th:only-of-type {\n",
       "        vertical-align: middle;\n",
       "    }\n",
       "\n",
       "    .dataframe tbody tr th {\n",
       "        vertical-align: top;\n",
       "    }\n",
       "\n",
       "    .dataframe thead th {\n",
       "        text-align: right;\n",
       "    }\n",
       "</style>\n",
       "<table border=\"1\" class=\"dataframe\">\n",
       "  <thead>\n",
       "    <tr style=\"text-align: right;\">\n",
       "      <th></th>\n",
       "      <th>Columns</th>\n",
       "      <th>BTC</th>\n",
       "      <th>ETH</th>\n",
       "      <th>LTC</th>\n",
       "    </tr>\n",
       "  </thead>\n",
       "  <tbody>\n",
       "    <tr>\n",
       "      <th>0</th>\n",
       "      <td></td>\n",
       "      <td>Bitcoin</td>\n",
       "      <td>Ethereum</td>\n",
       "      <td>Litecoin</td>\n",
       "    </tr>\n",
       "    <tr>\n",
       "      <th>1</th>\n",
       "      <td>Total</td>\n",
       "      <td>16677874</td>\n",
       "      <td>95845937</td>\n",
       "      <td>53914808</td>\n",
       "    </tr>\n",
       "    <tr>\n",
       "      <th>2</th>\n",
       "      <td>Price</td>\n",
       "      <td>8227.86</td>\n",
       "      <td>363.16</td>\n",
       "      <td>71.99</td>\n",
       "    </tr>\n",
       "    <tr>\n",
       "      <th>3</th>\n",
       "      <td>Market Capitalization</td>\n",
       "      <td>1.37223e+11</td>\n",
       "      <td>3.48073e+10</td>\n",
       "      <td>3.88108e+09</td>\n",
       "    </tr>\n",
       "    <tr>\n",
       "      <th>4</th>\n",
       "      <td>Transactions last 24h</td>\n",
       "      <td>300690</td>\n",
       "      <td>506225</td>\n",
       "      <td>27056</td>\n",
       "    </tr>\n",
       "    <tr>\n",
       "      <th>5</th>\n",
       "      <td>Transactions avg. per hour</td>\n",
       "      <td>12,529</td>\n",
       "      <td>21,093</td>\n",
       "      <td>1,127</td>\n",
       "    </tr>\n",
       "    <tr>\n",
       "      <th>6</th>\n",
       "      <td>Sent last 24h</td>\n",
       "      <td>4.98305e+06</td>\n",
       "      <td>1.54418e+07</td>\n",
       "      <td>1.80088e+07</td>\n",
       "    </tr>\n",
       "    <tr>\n",
       "      <th>7</th>\n",
       "      <td>Sent avg. per hour</td>\n",
       "      <td>207627</td>\n",
       "      <td>643408</td>\n",
       "      <td>750365</td>\n",
       "    </tr>\n",
       "    <tr>\n",
       "      <th>8</th>\n",
       "      <td>Avg. Transaction Value</td>\n",
       "      <td>16.57</td>\n",
       "      <td>30.5</td>\n",
       "      <td>665.61</td>\n",
       "    </tr>\n",
       "    <tr>\n",
       "      <th>9</th>\n",
       "      <td>Median Transaction Value</td>\n",
       "      <td>0.066</td>\n",
       "      <td>0.02</td>\n",
       "      <td>5.15</td>\n",
       "    </tr>\n",
       "    <tr>\n",
       "      <th>10</th>\n",
       "      <td>Block Time</td>\n",
       "      <td>8m 47s</td>\n",
       "      <td>13.7s</td>\n",
       "      <td>2m 2s</td>\n",
       "    </tr>\n",
       "    <tr>\n",
       "      <th>11</th>\n",
       "      <td>Blocks Count</td>\n",
       "      <td>495,270</td>\n",
       "      <td>4,589,394</td>\n",
       "      <td>1,316,669</td>\n",
       "    </tr>\n",
       "    <tr>\n",
       "      <th>12</th>\n",
       "      <td>Blocks last 24h</td>\n",
       "      <td>163</td>\n",
       "      <td>6,277</td>\n",
       "      <td>706</td>\n",
       "    </tr>\n",
       "    <tr>\n",
       "      <th>13</th>\n",
       "      <td>Blocks avg. per hour</td>\n",
       "      <td>7</td>\n",
       "      <td>262</td>\n",
       "      <td>29</td>\n",
       "    </tr>\n",
       "    <tr>\n",
       "      <th>14</th>\n",
       "      <td>Reward Per Block</td>\n",
       "      <td>(12.5, 1.85)</td>\n",
       "      <td>(3.0, 0.05269, 0.01144, 0.2744)</td>\n",
       "      <td>(25.0, 0.06007)</td>\n",
       "    </tr>\n",
       "    <tr>\n",
       "      <th>15</th>\n",
       "      <td>Reward last 24h</td>\n",
       "      <td>(2038.0, 301.39)</td>\n",
       "      <td>(18831.0, 330.71, 71.81, 1722.0)</td>\n",
       "      <td>(17650.0, 42.41)</td>\n",
       "    </tr>\n",
       "    <tr>\n",
       "      <th>16</th>\n",
       "      <td>Difficulty</td>\n",
       "      <td>1,364,422,081,125</td>\n",
       "      <td>1.463 P +5.03% in 24 hours</td>\n",
       "      <td>1,113,473 +3.62% in 24 hours</td>\n",
       "    </tr>\n",
       "    <tr>\n",
       "      <th>17</th>\n",
       "      <td>Hashrate</td>\n",
       "      <td>10.505 Ehash/s +3.79% in 24 hours</td>\n",
       "      <td>119.282 Thash/s +7.15% in 24 hours</td>\n",
       "      <td>38.603 Thash/s +13.53% in 24 hours</td>\n",
       "    </tr>\n",
       "    <tr>\n",
       "      <th>18</th>\n",
       "      <td>Mining Profitability</td>\n",
       "      <td>1.8318 USD/Day for 1 THash/s</td>\n",
       "      <td>0.0638 USD/Day for 1 MHash/s</td>\n",
       "      <td>0.033 USD/Day for 1 MHash/s</td>\n",
       "    </tr>\n",
       "    <tr>\n",
       "      <th>19</th>\n",
       "      <td>Top 100 Richest</td>\n",
       "      <td>2,892,735 BTC ($23,801,011,662 USD) 17.34% Total</td>\n",
       "      <td></td>\n",
       "      <td>25,041,383 LTC ($1,802,612,441 USD) 46.45% Total</td>\n",
       "    </tr>\n",
       "  </tbody>\n",
       "</table>\n",
       "</div>"
      ],
      "text/plain": [
       "                       Columns  \\\n",
       "0                                \n",
       "1                        Total   \n",
       "2                        Price   \n",
       "3        Market Capitalization   \n",
       "4        Transactions last 24h   \n",
       "5   Transactions avg. per hour   \n",
       "6                Sent last 24h   \n",
       "7           Sent avg. per hour   \n",
       "8       Avg. Transaction Value   \n",
       "9     Median Transaction Value   \n",
       "10                  Block Time   \n",
       "11               Blocks Count    \n",
       "12             Blocks last 24h   \n",
       "13        Blocks avg. per hour   \n",
       "14            Reward Per Block   \n",
       "15             Reward last 24h   \n",
       "16                  Difficulty   \n",
       "17                    Hashrate   \n",
       "18        Mining Profitability   \n",
       "19             Top 100 Richest   \n",
       "\n",
       "                                                 BTC  \\\n",
       "0                                            Bitcoin   \n",
       "1                                           16677874   \n",
       "2                                            8227.86   \n",
       "3                                        1.37223e+11   \n",
       "4                                             300690   \n",
       "5                                             12,529   \n",
       "6                                        4.98305e+06   \n",
       "7                                             207627   \n",
       "8                                              16.57   \n",
       "9                                              0.066   \n",
       "10                                            8m 47s   \n",
       "11                                           495,270   \n",
       "12                                               163   \n",
       "13                                                 7   \n",
       "14                                      (12.5, 1.85)   \n",
       "15                                  (2038.0, 301.39)   \n",
       "16                                 1,364,422,081,125   \n",
       "17                 10.505 Ehash/s +3.79% in 24 hours   \n",
       "18                      1.8318 USD/Day for 1 THash/s   \n",
       "19  2,892,735 BTC ($23,801,011,662 USD) 17.34% Total   \n",
       "\n",
       "                                   ETH  \\\n",
       "0                             Ethereum   \n",
       "1                             95845937   \n",
       "2                               363.16   \n",
       "3                          3.48073e+10   \n",
       "4                               506225   \n",
       "5                               21,093   \n",
       "6                          1.54418e+07   \n",
       "7                               643408   \n",
       "8                                 30.5   \n",
       "9                                 0.02   \n",
       "10                               13.7s   \n",
       "11                           4,589,394   \n",
       "12                               6,277   \n",
       "13                                 262   \n",
       "14     (3.0, 0.05269, 0.01144, 0.2744)   \n",
       "15    (18831.0, 330.71, 71.81, 1722.0)   \n",
       "16          1.463 P +5.03% in 24 hours   \n",
       "17  119.282 Thash/s +7.15% in 24 hours   \n",
       "18        0.0638 USD/Day for 1 MHash/s   \n",
       "19                                       \n",
       "\n",
       "                                                 LTC  \n",
       "0                                           Litecoin  \n",
       "1                                           53914808  \n",
       "2                                              71.99  \n",
       "3                                        3.88108e+09  \n",
       "4                                              27056  \n",
       "5                                              1,127  \n",
       "6                                        1.80088e+07  \n",
       "7                                             750365  \n",
       "8                                             665.61  \n",
       "9                                               5.15  \n",
       "10                                             2m 2s  \n",
       "11                                         1,316,669  \n",
       "12                                               706  \n",
       "13                                                29  \n",
       "14                                   (25.0, 0.06007)  \n",
       "15                                  (17650.0, 42.41)  \n",
       "16                      1,113,473 +3.62% in 24 hours  \n",
       "17                38.603 Thash/s +13.53% in 24 hours  \n",
       "18                       0.033 USD/Day for 1 MHash/s  \n",
       "19  25,041,383 LTC ($1,802,612,441 USD) 46.45% Total  "
      ]
     },
     "execution_count": 7,
     "metadata": {},
     "output_type": "execute_result"
    }
   ],
   "source": [
    "df2.head(20)"
   ]
  },
  {
   "cell_type": "markdown",
   "metadata": {
    "heading_collapsed": true
   },
   "source": [
    "### BTC.com"
   ]
  },
  {
   "cell_type": "code",
   "execution_count": 8,
   "metadata": {
    "ExecuteTime": {
     "end_time": "2017-11-20T16:40:42.913975Z",
     "start_time": "2017-11-20T16:40:42.911733Z"
    },
    "collapsed": true,
    "hidden": true
   },
   "outputs": [],
   "source": [
    "# site : blockchain info / btc.com\n",
    "# scrapper les N derniers blocks pour avoir les transactions fees "
   ]
  },
  {
   "cell_type": "code",
   "execution_count": 103,
   "metadata": {
    "ExecuteTime": {
     "end_time": "2017-11-24T13:37:29.040680Z",
     "start_time": "2017-11-24T13:37:29.027167Z"
    },
    "hidden": true
   },
   "outputs": [],
   "source": [
    "def scrap_one_day(year, month, day):\n",
    "    \"\"\"\n",
    "    Scrapper to get all the block of one day on BTC.com\n",
    "    :param date: info about the day to scrap\n",
    "    \"\"\"\n",
    "    d = webdriver.PhantomJS()\n",
    "    d.get(\"https://btc.com/block?date=%s-%s-%s\" % (year, month, day))\n",
    "    table = d.find_element_by_class_name('table').find_element_by_tag_name('tbody').get_attribute('innerHTML')\n",
    "    bs = BeautifulSoup(table, \"lxml\")\n",
    "    d.quit()\n",
    "    row = bs.find_all('tr')[1:]\n",
    "    cols = pd.Series([k.getText() for k in bs.find_all('tr')[0].find_all('th')][:-1]), \n",
    "    values = pd.DataFrame([[k.getText().strip() for k in r.find_all('td')][:-1] for r in row])\n",
    "    print('Day %s/%s done!' % (day, month))\n",
    "    return cols, values"
   ]
  },
  {
   "cell_type": "code",
   "execution_count": 43,
   "metadata": {
    "ExecuteTime": {
     "end_time": "2017-11-20T17:20:13.598190Z",
     "start_time": "2017-11-20T17:17:43.353218Z"
    },
    "hidden": true,
    "scrolled": true
   },
   "outputs": [
    {
     "name": "stdout",
     "output_type": "stream",
     "text": [
      "Day 24/11 done!\n",
      "Day 23/11 done!\n",
      "Day 22/11 done!\n",
      "Day 21/11 done!\n",
      "Day 20/11 done!\n",
      "Day 19/11 done!\n",
      "Day 18/11 done!\n",
      "Day 17/11 done!\n",
      "Day 16/11 done!\n",
      "Day 15/11 done!\n"
     ]
    }
   ],
   "source": [
    "month = datetime.now().month\n",
    "year = datetime.now().year\n",
    "current_day = datetime.now().day\n",
    "\n",
    "df = pd.DataFrame()\n",
    "for dd in range(current_day, current_day-10, -1):\n",
    "    cols, temp = scrap_one_day(year, month, dd)\n",
    "    df = pd.concat([df, temp])\n",
    "df = df.reset_index(drop=True)\n",
    "df.columns = cols[0]"
   ]
  },
  {
   "cell_type": "code",
   "execution_count": 44,
   "metadata": {
    "ExecuteTime": {
     "end_time": "2017-11-20T17:31:54.691553Z",
     "start_time": "2017-11-20T17:31:54.686755Z"
    },
    "hidden": true
   },
   "outputs": [],
   "source": [
    "# Remove the \"relayé par\"\n",
    "if len(df.columns) > 8:\n",
    "    del df[df.columns[1]]\n",
    "\n",
    "# Remove ',' in number \n",
    "for col in df.columns[:6]:\n",
    "    df[col] = df[col].apply(lambda x:float(x.replace(',', '')))\n",
    "df['RewardFee'] = df[df.columns[6]].apply(lambda x:float(x[x.index('+ ')+2:x.index(' BTC')]))"
   ]
  },
  {
   "cell_type": "code",
   "execution_count": 45,
   "metadata": {
    "hidden": true
   },
   "outputs": [
    {
     "data": {
      "text/html": [
       "<div>\n",
       "<style scoped>\n",
       "    .dataframe tbody tr th:only-of-type {\n",
       "        vertical-align: middle;\n",
       "    }\n",
       "\n",
       "    .dataframe tbody tr th {\n",
       "        vertical-align: top;\n",
       "    }\n",
       "\n",
       "    .dataframe thead th {\n",
       "        text-align: right;\n",
       "    }\n",
       "</style>\n",
       "<table border=\"1\" class=\"dataframe\">\n",
       "  <thead>\n",
       "    <tr style=\"text-align: right;\">\n",
       "      <th></th>\n",
       "      <th>Height</th>\n",
       "      <th>Nombre de transactions</th>\n",
       "      <th>Stripped Size(B)</th>\n",
       "      <th>Taille(B)</th>\n",
       "      <th>Weight</th>\n",
       "      <th>Avg Fee Per Tx</th>\n",
       "      <th>Récompense</th>\n",
       "      <th>Heure</th>\n",
       "      <th>RewardFee</th>\n",
       "    </tr>\n",
       "  </thead>\n",
       "  <tbody>\n",
       "    <tr>\n",
       "      <th>0</th>\n",
       "      <td>495889.0</td>\n",
       "      <td>1783.0</td>\n",
       "      <td>936938.0</td>\n",
       "      <td>1182297.0</td>\n",
       "      <td>3993111.0</td>\n",
       "      <td>0.000363</td>\n",
       "      <td>12.5 + 1.44839311 BTC</td>\n",
       "      <td>2017-11-24 13:16:21</td>\n",
       "      <td>1.448393</td>\n",
       "    </tr>\n",
       "    <tr>\n",
       "      <th>1</th>\n",
       "      <td>495888.0</td>\n",
       "      <td>1893.0</td>\n",
       "      <td>965073.0</td>\n",
       "      <td>1097678.0</td>\n",
       "      <td>3992897.0</td>\n",
       "      <td>0.000495</td>\n",
       "      <td>12.5 + 1.97754731 BTC</td>\n",
       "      <td>2017-11-24 13:09:12</td>\n",
       "      <td>1.977547</td>\n",
       "    </tr>\n",
       "    <tr>\n",
       "      <th>2</th>\n",
       "      <td>495887.0</td>\n",
       "      <td>2244.0</td>\n",
       "      <td>984305.0</td>\n",
       "      <td>1045159.0</td>\n",
       "      <td>3998074.0</td>\n",
       "      <td>0.000448</td>\n",
       "      <td>12.5 + 1.79223714 BTC</td>\n",
       "      <td>2017-11-24 12:58:37</td>\n",
       "      <td>1.792237</td>\n",
       "    </tr>\n",
       "    <tr>\n",
       "      <th>3</th>\n",
       "      <td>495886.0</td>\n",
       "      <td>2421.0</td>\n",
       "      <td>979736.0</td>\n",
       "      <td>1053536.0</td>\n",
       "      <td>3992744.0</td>\n",
       "      <td>0.000663</td>\n",
       "      <td>12.5 + 2.64774008 BTC</td>\n",
       "      <td>2017-11-24 12:47:07</td>\n",
       "      <td>2.647740</td>\n",
       "    </tr>\n",
       "    <tr>\n",
       "      <th>4</th>\n",
       "      <td>495885.0</td>\n",
       "      <td>2417.0</td>\n",
       "      <td>957333.0</td>\n",
       "      <td>1121086.0</td>\n",
       "      <td>3993085.0</td>\n",
       "      <td>0.000388</td>\n",
       "      <td>12.5 + 1.55023504 BTC</td>\n",
       "      <td>2017-11-24 12:26:55</td>\n",
       "      <td>1.550235</td>\n",
       "    </tr>\n",
       "  </tbody>\n",
       "</table>\n",
       "</div>"
      ],
      "text/plain": [
       "     Height  Nombre de transactions  Stripped Size(B)  Taille(B)     Weight  \\\n",
       "0  495889.0                  1783.0          936938.0  1182297.0  3993111.0   \n",
       "1  495888.0                  1893.0          965073.0  1097678.0  3992897.0   \n",
       "2  495887.0                  2244.0          984305.0  1045159.0  3998074.0   \n",
       "3  495886.0                  2421.0          979736.0  1053536.0  3992744.0   \n",
       "4  495885.0                  2417.0          957333.0  1121086.0  3993085.0   \n",
       "\n",
       "   Avg Fee Per Tx             Récompense                Heure  RewardFee  \n",
       "0        0.000363  12.5 + 1.44839311 BTC  2017-11-24 13:16:21   1.448393  \n",
       "1        0.000495  12.5 + 1.97754731 BTC  2017-11-24 13:09:12   1.977547  \n",
       "2        0.000448  12.5 + 1.79223714 BTC  2017-11-24 12:58:37   1.792237  \n",
       "3        0.000663  12.5 + 2.64774008 BTC  2017-11-24 12:47:07   2.647740  \n",
       "4        0.000388  12.5 + 1.55023504 BTC  2017-11-24 12:26:55   1.550235  "
      ]
     },
     "execution_count": 45,
     "metadata": {},
     "output_type": "execute_result"
    }
   ],
   "source": [
    "df.head(5)"
   ]
  },
  {
   "cell_type": "code",
   "execution_count": 49,
   "metadata": {
    "ExecuteTime": {
     "end_time": "2017-11-20T17:26:30.020843Z",
     "start_time": "2017-11-20T17:26:30.016194Z"
    },
    "hidden": true
   },
   "outputs": [],
   "source": [
    "writer = pd.ExcelWriter('Info_blocks_bitcoin.xlsx')\n",
    "df.to_excel(writer, sheet_name='Info Blocks Bitcoin')\n",
    "writer.save()"
   ]
  },
  {
   "cell_type": "code",
   "execution_count": 38,
   "metadata": {
    "ExecuteTime": {
     "end_time": "2017-11-20T17:34:05.024326Z",
     "start_time": "2017-11-20T17:34:05.017454Z"
    },
    "hidden": true
   },
   "outputs": [
    {
     "data": {
      "text/plain": [
       "(2018.1460296096905, 586.9336681853798)"
      ]
     },
     "execution_count": 38,
     "metadata": {},
     "output_type": "execute_result"
    }
   ],
   "source": [
    "# Remove block with only one transaction\n",
    "df[df[df.columns[1]] > 10][df.columns[1]].mean(), df[df[df.columns[1]] > 10][df.columns[1]].std()"
   ]
  },
  {
   "cell_type": "code",
   "execution_count": 39,
   "metadata": {
    "ExecuteTime": {
     "end_time": "2017-11-20T17:35:01.452654Z",
     "start_time": "2017-11-20T17:35:01.288223Z"
    },
    "hidden": true
   },
   "outputs": [
    {
     "data": {
      "text/plain": [
       "<matplotlib.axes._subplots.AxesSubplot at 0x113894fd0>"
      ]
     },
     "execution_count": 39,
     "metadata": {},
     "output_type": "execute_result"
    },
    {
     "data": {
      "image/png": "[encoded data removed]",
      "text/plain": [
       "<matplotlib.figure.Figure at 0x11471c3c8>"
      ]
     },
     "metadata": {},
     "output_type": "display_data"
    }
   ],
   "source": [
    "df[df[df.columns[1]] > 10][df.columns[1]].plot()"
   ]
  },
  {
   "cell_type": "code",
   "execution_count": 33,
   "metadata": {
    "ExecuteTime": {
     "end_time": "2017-11-20T17:35:31.247979Z",
     "start_time": "2017-11-20T17:35:31.101714Z"
    },
    "hidden": true
   },
   "outputs": [
    {
     "data": {
      "text/plain": [
       "<matplotlib.axes._subplots.AxesSubplot at 0x112fa57b8>"
      ]
     },
     "execution_count": 33,
     "metadata": {},
     "output_type": "execute_result"
    },
    {
     "data": {
      "image/png": "[encoded data removed]",
      "text/plain": [
       "<matplotlib.figure.Figure at 0x112fa7a90>"
      ]
     },
     "metadata": {},
     "output_type": "display_data"
    }
   ],
   "source": [
    "df.RewardFee.plot()"
   ]
  },
  {
   "cell_type": "markdown",
   "metadata": {
    "collapsed": true
   },
   "source": [
    "### EtherScan"
   ]
  },
  {
   "cell_type": "code",
   "execution_count": 37,
   "metadata": {
    "ExecuteTime": {
     "end_time": "2017-11-26T15:14:02.134715Z",
     "start_time": "2017-11-26T15:14:02.112562Z"
    }
   },
   "outputs": [],
   "source": [
    "def scrap_one_day_ether(p_number, verbose=False):\n",
    "    \"\"\"\n",
    "    Scrapper to get all the block of one day on EtherScan\n",
    "    :param p_number: page number to scrap\n",
    "    :param verbose: boolean for verbose\n",
    "    \"\"\"\n",
    "    d = webdriver.Chrome()\n",
    "    try:\n",
    "        d.set_page_load_timeout(7)\n",
    "        d.get(\"https://etherscan.io/blocks?p=%s\" % p_number)\n",
    "    except TimeoutException:\n",
    "        pass\n",
    "    table = d.find_element_by_class_name('table').find_element_by_tag_name('tbody').get_attribute('innerHTML')\n",
    "    thead = d.find_element_by_class_name('table').find_element_by_tag_name('thead').get_attribute('innerHTML')\n",
    "    bs = BeautifulSoup(table, \"lxml\")\n",
    "    thead = BeautifulSoup(thead, \"lxml\")\n",
    "    d.quit()\n",
    "    cols = pd.Series([k.getText() for k in thead.find_all('th')]) \n",
    "    row = bs.find_all('tr')\n",
    "    values = pd.DataFrame([[k.getText().strip() for k in r.find_all('td')] for r in row])\n",
    "    time = pd.Series([r.find_all('td')[1].span.attrs['data-original-title'] for r in row])\n",
    "    if verbose:\n",
    "        print('Page %s done' % p_number)\n",
    "    return cols, values, time"
   ]
  },
  {
   "cell_type": "code",
   "execution_count": 38,
   "metadata": {
    "ExecuteTime": {
     "end_time": "2017-11-26T15:16:45.005945Z",
     "start_time": "2017-11-26T15:14:03.860092Z"
    },
    "scrolled": true
   },
   "outputs": [],
   "source": [
    "# It may take some time (ChromeDriver faster than PhantomJS, can get stucked)\n",
    "# 1m20s for 500 blocks ie 0.16s/block\n",
    "df = pd.DataFrame()\n",
    "page_number_max = int(1000/25) # 25 block per page\n",
    "for dd in range(1, page_number_max+1):\n",
    "    cols, temp, time = scrap_one_day_ether(dd)\n",
    "    temp.columns = cols.values\n",
    "    temp['Age'] = time\n",
    "    df = pd.concat([df, temp])"
   ]
  },
  {
   "cell_type": "code",
   "execution_count": 52,
   "metadata": {
    "ExecuteTime": {
     "end_time": "2017-11-26T15:21:10.554102Z",
     "start_time": "2017-11-26T15:21:10.548494Z"
    }
   },
   "outputs": [],
   "source": [
    "# Remove duplicates, Ethereum blocks can be faster than scrapping\n",
    "df = df.drop_duplicates(df.columns[0])\n",
    "df = df.reset_index(drop=True)\n",
    "df[df.columns[8]] = df[df.columns[8]].apply(lambda x:float(x[:x.find(' E')]))\n",
    "df[df.columns[7]] = df[df.columns[7]].apply(lambda x:float(x[:x.find(' G')].replace(',', '')) if not '-' in x else 0)\n",
    "df[df.columns[2]] = df[df.columns[2]].apply(float)"
   ]
  },
  {
   "cell_type": "markdown",
   "metadata": {},
   "source": [
    "### Litecore.io"
   ]
  },
  {
   "cell_type": "code",
   "execution_count": 168,
   "metadata": {
    "ExecuteTime": {
     "end_time": "2017-11-24T14:00:58.041950Z",
     "start_time": "2017-11-24T14:00:58.029124Z"
    }
   },
   "outputs": [],
   "source": [
    "def scrap_one_day_ltc(year, month, day):\n",
    "    \"\"\"\n",
    "    Scrapper to get all the block of one day on BTC.com\n",
    "    :param date: info about the day to scrap\n",
    "    \"\"\"\n",
    "    d = webdriver.Chrome()\n",
    "    d.get(\"https://insight.litecore.io/blocks-date/%s-%s-%s\" % (year, month, day))\n",
    "    time.sleep(1)\n",
    "    table = d.find_element_by_class_name('table').get_attribute('innerHTML')\n",
    "    #table = d.find_element_by_class_name('table').find_element_by_tag_name('tbody').get_attribute('innerHTML')\n",
    "    bs = BeautifulSoup(table, \"lxml\")\n",
    "    d.quit()\n",
    "    #return bs \n",
    "    row = bs.find_all('tr')[1:]\n",
    "    cols = pd.Series([k.getText() for k in bs.find_all('tr')[0].find_all('th')]), \n",
    "    values = pd.DataFrame([[k.getText().strip() for k in r.find_all('td')] for r in row])\n",
    "    return cols, values"
   ]
  },
  {
   "cell_type": "code",
   "execution_count": 170,
   "metadata": {
    "ExecuteTime": {
     "end_time": "2017-11-24T14:01:28.121852Z",
     "start_time": "2017-11-24T14:01:06.677085Z"
    }
   },
   "outputs": [],
   "source": [
    "month = datetime.now().month\n",
    "year = datetime.now().year\n",
    "current_day = datetime.now().day\n",
    "\n",
    "df = pd.DataFrame()\n",
    "for dd in range(current_day, current_day-3, -1):\n",
    "    cols, temp = scrap_one_day_ltc(year, month, dd)\n",
    "    df = pd.concat([df, temp])\n",
    "df.columns = cols[0]\n",
    "\n",
    "if not df.iloc[0][1]:\n",
    "    df = df.drop(0)\n",
    "\n",
    "df = df.reset_index(drop=True)\n",
    "df[df.columns[2]] = df[df.columns[2]].apply(float)"
   ]
  },
  {
   "cell_type": "code",
   "execution_count": 186,
   "metadata": {
    "ExecuteTime": {
     "end_time": "2017-11-24T14:04:22.942094Z",
     "start_time": "2017-11-24T14:04:22.931523Z"
    }
   },
   "outputs": [
    {
     "data": {
      "text/html": [
       "<div>\n",
       "<style scoped>\n",
       "    .dataframe tbody tr th:only-of-type {\n",
       "        vertical-align: middle;\n",
       "    }\n",
       "\n",
       "    .dataframe tbody tr th {\n",
       "        vertical-align: top;\n",
       "    }\n",
       "\n",
       "    .dataframe thead th {\n",
       "        text-align: right;\n",
       "    }\n",
       "</style>\n",
       "<table border=\"1\" class=\"dataframe\">\n",
       "  <thead>\n",
       "    <tr style=\"text-align: right;\">\n",
       "      <th></th>\n",
       "      <th>Height</th>\n",
       "      <th>Timestamp</th>\n",
       "      <th>Transactions</th>\n",
       "      <th>Mined by</th>\n",
       "      <th>Size</th>\n",
       "    </tr>\n",
       "  </thead>\n",
       "  <tbody>\n",
       "    <tr>\n",
       "      <th>1</th>\n",
       "      <td>1318891</td>\n",
       "      <td>Nov 24, 2017 3:01:05 PM</td>\n",
       "      <td>77.0</td>\n",
       "      <td></td>\n",
       "      <td>21554</td>\n",
       "    </tr>\n",
       "    <tr>\n",
       "      <th>2</th>\n",
       "      <td>1318890</td>\n",
       "      <td>Nov 24, 2017 2:59:39 PM</td>\n",
       "      <td>52.0</td>\n",
       "      <td></td>\n",
       "      <td>23581</td>\n",
       "    </tr>\n",
       "    <tr>\n",
       "      <th>3</th>\n",
       "      <td>1318889</td>\n",
       "      <td>Nov 24, 2017 2:56:45 PM</td>\n",
       "      <td>72.0</td>\n",
       "      <td></td>\n",
       "      <td>35848</td>\n",
       "    </tr>\n",
       "    <tr>\n",
       "      <th>4</th>\n",
       "      <td>1318888</td>\n",
       "      <td>Nov 24, 2017 2:56:07 PM</td>\n",
       "      <td>14.0</td>\n",
       "      <td>AntMiner</td>\n",
       "      <td>6187</td>\n",
       "    </tr>\n",
       "    <tr>\n",
       "      <th>5</th>\n",
       "      <td>1318887</td>\n",
       "      <td>Nov 24, 2017 2:52:49 PM</td>\n",
       "      <td>28.0</td>\n",
       "      <td>AntMiner</td>\n",
       "      <td>12669</td>\n",
       "    </tr>\n",
       "  </tbody>\n",
       "</table>\n",
       "</div>"
      ],
      "text/plain": [
       "    Height                Timestamp  Transactions  Mined by   Size\n",
       "1  1318891  Nov 24, 2017 3:01:05 PM          77.0            21554\n",
       "2  1318890  Nov 24, 2017 2:59:39 PM          52.0            23581\n",
       "3  1318889  Nov 24, 2017 2:56:45 PM          72.0            35848\n",
       "4  1318888  Nov 24, 2017 2:56:07 PM          14.0  AntMiner   6187\n",
       "5  1318887  Nov 24, 2017 2:52:49 PM          28.0  AntMiner  12669"
      ]
     },
     "execution_count": 186,
     "metadata": {},
     "output_type": "execute_result"
    }
   ],
   "source": [
    "df.head()"
   ]
  },
  {
   "cell_type": "code",
   "execution_count": null,
   "metadata": {},
   "outputs": [],
   "source": []
  }
 ],
 "metadata": {
  "kernelspec": {
   "display_name": "Python 3",
   "language": "python",
   "name": "python3"
  },
  "language_info": {
   "codemirror_mode": {
    "name": "ipython",
    "version": 3
   },
   "file_extension": ".py",
   "mimetype": "text/x-python",
   "name": "python",
   "nbconvert_exporter": "python",
   "pygments_lexer": "ipython3",
   "version": "3.6.3"
  },
  "toc": {
   "nav_menu": {},
   "number_sections": true,
   "sideBar": true,
   "skip_h1_title": false,
   "toc_cell": false,
   "toc_position": {},
   "toc_section_display": "block",
   "toc_window_display": false
  }
 },
 "nbformat": 4,
 "nbformat_minor": 2
}
