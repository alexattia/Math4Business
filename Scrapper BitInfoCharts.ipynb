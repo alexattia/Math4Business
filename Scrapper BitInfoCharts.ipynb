{
 "cells": [
  {
   "cell_type": "code",
   "execution_count": 6,
   "metadata": {
    "ExecuteTime": {
     "end_time": "2017-11-19T22:46:13.974146Z",
     "start_time": "2017-11-19T22:46:13.969118Z"
    }
   },
   "outputs": [],
   "source": [
    "from selenium import webdriver\n",
    "import numpy as np\n",
    "import glob\n",
    "import os\n",
    "import datetime\n",
    "import pandas as pd\n",
    "import re\n",
    "from bs4 import BeautifulSoup"
   ]
  },
  {
   "cell_type": "markdown",
   "metadata": {},
   "source": [
    "### Scrapping website"
   ]
  },
  {
   "cell_type": "code",
   "execution_count": 2,
   "metadata": {
    "ExecuteTime": {
     "end_time": "2017-11-19T22:46:02.845656Z",
     "start_time": "2017-11-19T22:45:54.476065Z"
    }
   },
   "outputs": [],
   "source": [
    "d = webdriver.PhantomJS()\n",
    "d.get(\"https://bitinfocharts.com/\")"
   ]
  },
  {
   "cell_type": "code",
   "execution_count": 4,
   "metadata": {
    "ExecuteTime": {
     "end_time": "2017-11-19T22:45:38.155127Z",
     "start_time": "2017-11-19T22:45:36.601244Z"
    }
   },
   "outputs": [
    {
     "data": {
      "text/plain": [
       "<selenium.webdriver.phantomjs.webdriver.WebDriver (session=\"5ce6a3a0-cd7b-11e7-8fd7-5fe91f0fc5b2\")>"
      ]
     },
     "execution_count": 4,
     "metadata": {},
     "output_type": "execute_result"
    }
   ],
   "source": [
    "webdriver.PhantomJS()"
   ]
  },
  {
   "cell_type": "code",
   "execution_count": 3,
   "metadata": {
    "ExecuteTime": {
     "end_time": "2017-11-19T22:46:04.210480Z",
     "start_time": "2017-11-19T22:46:04.052475Z"
    }
   },
   "outputs": [],
   "source": [
    "table = d.find_element_by_id('main_body').find_element_by_tag_name('tbody').get_attribute('innerHTML')\n",
    "bs = BeautifulSoup(table, \"lxml\")\n",
    "d.quit()"
   ]
  },
  {
   "cell_type": "code",
   "execution_count": 33,
   "metadata": {
    "ExecuteTime": {
     "end_time": "2017-11-19T22:51:45.792017Z",
     "start_time": "2017-11-19T22:51:45.659796Z"
    },
    "scrolled": true
   },
   "outputs": [],
   "source": [
    "df = pd.DataFrame()\n",
    "df['Columns'] = [k.find('td').getText() for k in bs.find_all('tr')]\n",
    "for crypto in ['btc', 'eth', 'ltc']:\n",
    "    df[crypto.upper()] = [p.getText() for p in bs.find_all(class_='c_%s' % crypto)]"
   ]
  },
  {
   "cell_type": "markdown",
   "metadata": {},
   "source": [
    "### Cleaning dataframe"
   ]
  },
  {
   "cell_type": "code",
   "execution_count": 36,
   "metadata": {
    "ExecuteTime": {
     "end_time": "2017-11-19T22:55:01.205944Z",
     "start_time": "2017-11-19T22:55:01.138326Z"
    },
    "scrolled": true
   },
   "outputs": [],
   "source": [
    "df2 = df.copy()\n",
    "stopwords = ['BTC', 'ETH', 'LTC']\n",
    "def remove_chars(x):\n",
    "    num = re.sub('[^0-9]','', x)\n",
    "    if len(str(num)) < 3:\n",
    "        return x\n",
    "    else:\n",
    "        return num\n",
    "    \n",
    "def convert_number(x):\n",
    "    return float(x.replace(',',''))\n",
    "\n",
    "def remove_crypt(x):\n",
    "    for k in stopwords:\n",
    "        if k in x:\n",
    "            return convert_number(x[:x.index(k)])\n",
    "        \n",
    "def clean_reward(x):\n",
    "    for k in stopwords:\n",
    "        if k in x:\n",
    "            x = x[:x.index(k)]\n",
    "            return tuple(map(float, x.replace(',','').split('+')))\n",
    "\n",
    "df2.loc[0] = df2.loc[0].apply(lambda x:x[:x.index('(')] if '(' in x else x)\n",
    "df2.loc[1] = df2.loc[1].apply(remove_chars)\n",
    "df2.loc[2] = df2.loc[2].apply(lambda x:convert_number(x[x.find('$')+1:x.find('USD')]) if 'USD' in x else x)\n",
    "df2.loc[3] = df2.loc[3].apply(lambda x:convert_number(x[x.find('$')+1:x.find('USD')]) if 'USD' in x else x)\n",
    "df2.iloc[4, 1:] = df2.iloc[4, 1:].apply(convert_number)\n",
    "for p in range(6,10):\n",
    "    df2.iloc[p, 1:] = df2.iloc[p, 1:].apply(remove_crypt)\n",
    "df2.iloc[14, 1:] = df2.iloc[14, 1:].apply(clean_reward)\n",
    "df2.iloc[15, 1:] = df2.iloc[15, 1:].apply(clean_reward)"
   ]
  },
  {
   "cell_type": "code",
   "execution_count": 37,
   "metadata": {
    "ExecuteTime": {
     "end_time": "2017-11-19T22:55:01.652836Z",
     "start_time": "2017-11-19T22:55:01.633485Z"
    }
   },
   "outputs": [
    {
     "data": {
      "text/html": [
       "<div>\n",
       "<style scoped>\n",
       "    .dataframe tbody tr th:only-of-type {\n",
       "        vertical-align: middle;\n",
       "    }\n",
       "\n",
       "    .dataframe tbody tr th {\n",
       "        vertical-align: top;\n",
       "    }\n",
       "\n",
       "    .dataframe thead th {\n",
       "        text-align: right;\n",
       "    }\n",
       "</style>\n",
       "<table border=\"1\" class=\"dataframe\">\n",
       "  <thead>\n",
       "    <tr style=\"text-align: right;\">\n",
       "      <th></th>\n",
       "      <th>Columns</th>\n",
       "      <th>BTC</th>\n",
       "      <th>ETH</th>\n",
       "      <th>LTC</th>\n",
       "    </tr>\n",
       "  </thead>\n",
       "  <tbody>\n",
       "    <tr>\n",
       "      <th>0</th>\n",
       "      <td></td>\n",
       "      <td>Bitcoin</td>\n",
       "      <td>Ethereum</td>\n",
       "      <td>Litecoin</td>\n",
       "    </tr>\n",
       "    <tr>\n",
       "      <th>1</th>\n",
       "      <td>Total</td>\n",
       "      <td>16676336</td>\n",
       "      <td>95830620</td>\n",
       "      <td>53902108</td>\n",
       "    </tr>\n",
       "    <tr>\n",
       "      <th>2</th>\n",
       "      <td>Price</td>\n",
       "      <td>7970.95</td>\n",
       "      <td>357.54</td>\n",
       "      <td>71.34</td>\n",
       "    </tr>\n",
       "    <tr>\n",
       "      <th>3</th>\n",
       "      <td>Market Capitalization</td>\n",
       "      <td>1.32926e+11</td>\n",
       "      <td>3.42632e+10</td>\n",
       "      <td>3.8453e+09</td>\n",
       "    </tr>\n",
       "    <tr>\n",
       "      <th>4</th>\n",
       "      <td>Transactions last 24h</td>\n",
       "      <td>262628</td>\n",
       "      <td>466537</td>\n",
       "      <td>23654</td>\n",
       "    </tr>\n",
       "    <tr>\n",
       "      <th>5</th>\n",
       "      <td>Transactions avg. per hour</td>\n",
       "      <td>10,943</td>\n",
       "      <td>19,439</td>\n",
       "      <td>986</td>\n",
       "    </tr>\n",
       "    <tr>\n",
       "      <th>6</th>\n",
       "      <td>Sent last 24h</td>\n",
       "      <td>5.31232e+06</td>\n",
       "      <td>1.26271e+07</td>\n",
       "      <td>1.71879e+07</td>\n",
       "    </tr>\n",
       "    <tr>\n",
       "      <th>7</th>\n",
       "      <td>Sent avg. per hour</td>\n",
       "      <td>221347</td>\n",
       "      <td>526129</td>\n",
       "      <td>716164</td>\n",
       "    </tr>\n",
       "    <tr>\n",
       "      <th>8</th>\n",
       "      <td>Avg. Transaction Value</td>\n",
       "      <td>20.23</td>\n",
       "      <td>27.07</td>\n",
       "      <td>726.64</td>\n",
       "    </tr>\n",
       "    <tr>\n",
       "      <th>9</th>\n",
       "      <td>Median Transaction Value</td>\n",
       "      <td>0.058</td>\n",
       "      <td>0.0093</td>\n",
       "      <td>5.1</td>\n",
       "    </tr>\n",
       "    <tr>\n",
       "      <th>10</th>\n",
       "      <td>Block Time</td>\n",
       "      <td>8m 47s</td>\n",
       "      <td>13.8s</td>\n",
       "      <td>2m 7s</td>\n",
       "    </tr>\n",
       "    <tr>\n",
       "      <th>11</th>\n",
       "      <td>Blocks Count</td>\n",
       "      <td>495,147</td>\n",
       "      <td>4,584,731</td>\n",
       "      <td>1,316,161</td>\n",
       "    </tr>\n",
       "    <tr>\n",
       "      <th>12</th>\n",
       "      <td>Blocks last 24h</td>\n",
       "      <td>160</td>\n",
       "      <td>6,234</td>\n",
       "      <td>683</td>\n",
       "    </tr>\n",
       "    <tr>\n",
       "      <th>13</th>\n",
       "      <td>Blocks avg. per hour</td>\n",
       "      <td>7</td>\n",
       "      <td>260</td>\n",
       "      <td>28</td>\n",
       "    </tr>\n",
       "    <tr>\n",
       "      <th>14</th>\n",
       "      <td>Reward Per Block</td>\n",
       "      <td>(12.5, 1.52)</td>\n",
       "      <td>(3.0, 0.04526, 0.0106, 0.254)</td>\n",
       "      <td>(25.0, 0.07901)</td>\n",
       "    </tr>\n",
       "    <tr>\n",
       "      <th>15</th>\n",
       "      <td>Reward last 24h</td>\n",
       "      <td>(2000.0, 243.62)</td>\n",
       "      <td>(18702.0, 282.18, 66.09, 1583.0)</td>\n",
       "      <td>(17075.0, 53.96)</td>\n",
       "    </tr>\n",
       "    <tr>\n",
       "      <th>16</th>\n",
       "      <td>Difficulty</td>\n",
       "      <td>1,364,422,081,125</td>\n",
       "      <td>1.4 P +0.74% in 24 hours</td>\n",
       "      <td>1,074,554</td>\n",
       "    </tr>\n",
       "    <tr>\n",
       "      <th>17</th>\n",
       "      <td>Hashrate</td>\n",
       "      <td>10.537 Ehash/s +6.41% in 24 hours</td>\n",
       "      <td>112.446 Thash/s +1.29% in 24 hours</td>\n",
       "      <td>34.691 Thash/s +7.15% in 24 hours</td>\n",
       "    </tr>\n",
       "    <tr>\n",
       "      <th>18</th>\n",
       "      <td>Mining Profitability</td>\n",
       "      <td>1.6972 USD/Day for 1 THash/s</td>\n",
       "      <td>0.0656 USD/Day for 1 MHash/s</td>\n",
       "      <td>0.0352 USD/Day for 1 MHash/s</td>\n",
       "    </tr>\n",
       "    <tr>\n",
       "      <th>19</th>\n",
       "      <td>Top 100 Richest</td>\n",
       "      <td>2,893,279 BTC ($23,062,197,133 USD) 17.35% Total</td>\n",
       "      <td></td>\n",
       "      <td>25,018,778 LTC ($1,784,802,889 USD) 46.42% Total</td>\n",
       "    </tr>\n",
       "  </tbody>\n",
       "</table>\n",
       "</div>"
      ],
      "text/plain": [
       "                       Columns  \\\n",
       "0                                \n",
       "1                        Total   \n",
       "2                        Price   \n",
       "3        Market Capitalization   \n",
       "4        Transactions last 24h   \n",
       "5   Transactions avg. per hour   \n",
       "6                Sent last 24h   \n",
       "7           Sent avg. per hour   \n",
       "8       Avg. Transaction Value   \n",
       "9     Median Transaction Value   \n",
       "10                  Block Time   \n",
       "11               Blocks Count    \n",
       "12             Blocks last 24h   \n",
       "13        Blocks avg. per hour   \n",
       "14            Reward Per Block   \n",
       "15             Reward last 24h   \n",
       "16                  Difficulty   \n",
       "17                    Hashrate   \n",
       "18        Mining Profitability   \n",
       "19             Top 100 Richest   \n",
       "\n",
       "                                                 BTC  \\\n",
       "0                                            Bitcoin   \n",
       "1                                           16676336   \n",
       "2                                            7970.95   \n",
       "3                                        1.32926e+11   \n",
       "4                                             262628   \n",
       "5                                             10,943   \n",
       "6                                        5.31232e+06   \n",
       "7                                             221347   \n",
       "8                                              20.23   \n",
       "9                                              0.058   \n",
       "10                                            8m 47s   \n",
       "11                                           495,147   \n",
       "12                                               160   \n",
       "13                                                 7   \n",
       "14                                      (12.5, 1.52)   \n",
       "15                                  (2000.0, 243.62)   \n",
       "16                                 1,364,422,081,125   \n",
       "17                 10.537 Ehash/s +6.41% in 24 hours   \n",
       "18                      1.6972 USD/Day for 1 THash/s   \n",
       "19  2,893,279 BTC ($23,062,197,133 USD) 17.35% Total   \n",
       "\n",
       "                                   ETH  \\\n",
       "0                             Ethereum   \n",
       "1                             95830620   \n",
       "2                               357.54   \n",
       "3                          3.42632e+10   \n",
       "4                               466537   \n",
       "5                               19,439   \n",
       "6                          1.26271e+07   \n",
       "7                               526129   \n",
       "8                                27.07   \n",
       "9                               0.0093   \n",
       "10                               13.8s   \n",
       "11                           4,584,731   \n",
       "12                               6,234   \n",
       "13                                 260   \n",
       "14       (3.0, 0.04526, 0.0106, 0.254)   \n",
       "15    (18702.0, 282.18, 66.09, 1583.0)   \n",
       "16            1.4 P +0.74% in 24 hours   \n",
       "17  112.446 Thash/s +1.29% in 24 hours   \n",
       "18        0.0656 USD/Day for 1 MHash/s   \n",
       "19                                       \n",
       "\n",
       "                                                 LTC  \n",
       "0                                           Litecoin  \n",
       "1                                           53902108  \n",
       "2                                              71.34  \n",
       "3                                         3.8453e+09  \n",
       "4                                              23654  \n",
       "5                                                986  \n",
       "6                                        1.71879e+07  \n",
       "7                                             716164  \n",
       "8                                             726.64  \n",
       "9                                                5.1  \n",
       "10                                             2m 7s  \n",
       "11                                         1,316,161  \n",
       "12                                               683  \n",
       "13                                                28  \n",
       "14                                   (25.0, 0.07901)  \n",
       "15                                  (17075.0, 53.96)  \n",
       "16                                         1,074,554  \n",
       "17                 34.691 Thash/s +7.15% in 24 hours  \n",
       "18                      0.0352 USD/Day for 1 MHash/s  \n",
       "19  25,018,778 LTC ($1,784,802,889 USD) 46.42% Total  "
      ]
     },
     "execution_count": 37,
     "metadata": {},
     "output_type": "execute_result"
    }
   ],
   "source": [
    "df2.head(20)"
   ]
  },
  {
   "cell_type": "code",
   "execution_count": null,
   "metadata": {},
   "outputs": [],
   "source": []
  }
 ],
 "metadata": {
  "kernelspec": {
   "display_name": "Python 3",
   "language": "python",
   "name": "python3"
  },
  "language_info": {
   "codemirror_mode": {
    "name": "ipython",
    "version": 3
   },
   "file_extension": ".py",
   "mimetype": "text/x-python",
   "name": "python",
   "nbconvert_exporter": "python",
   "pygments_lexer": "ipython3",
   "version": "3.6.3"
  },
  "toc": {
   "nav_menu": {},
   "number_sections": true,
   "sideBar": true,
   "skip_h1_title": false,
   "toc_cell": false,
   "toc_position": {},
   "toc_section_display": "block",
   "toc_window_display": false
  }
 },
 "nbformat": 4,
 "nbformat_minor": 2
}
