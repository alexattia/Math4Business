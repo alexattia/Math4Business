{
 "cells": [
  {
   "cell_type": "code",
   "execution_count": 148,
   "metadata": {
    "ExecuteTime": {
     "end_time": "2017-11-16T15:26:31.663778Z",
     "start_time": "2017-11-16T15:26:31.659905Z"
    }
   },
   "outputs": [],
   "source": [
    "from selenium import webdriver\n",
    "import numpy as np\n",
    "import glob\n",
    "import os\n",
    "import datetime\n",
    "import pandas as pd\n",
    "from bs4 import BeautifulSoup"
   ]
  },
  {
   "cell_type": "markdown",
   "metadata": {},
   "source": [
    "### Scrapping website"
   ]
  },
  {
   "cell_type": "code",
   "execution_count": 181,
   "metadata": {
    "ExecuteTime": {
     "end_time": "2017-11-16T15:38:42.841994Z",
     "start_time": "2017-11-16T15:38:41.068104Z"
    }
   },
   "outputs": [],
   "source": [
    "d = webdriver.Chrome()\n",
    "d.get(\"https://bitinfocharts.com/\")"
   ]
  },
  {
   "cell_type": "code",
   "execution_count": 182,
   "metadata": {
    "ExecuteTime": {
     "end_time": "2017-11-16T15:38:43.318980Z",
     "start_time": "2017-11-16T15:38:42.844346Z"
    }
   },
   "outputs": [],
   "source": [
    "table = d.find_element_by_id('main_body').find_element_by_tag_name('tbody').get_attribute('innerHTML')\n",
    "bs = BeautifulSoup(table, \"lxml\")\n",
    "d.quit()"
   ]
  },
  {
   "cell_type": "code",
   "execution_count": 183,
   "metadata": {
    "ExecuteTime": {
     "end_time": "2017-11-16T15:38:43.421541Z",
     "start_time": "2017-11-16T15:38:43.320512Z"
    },
    "scrolled": true
   },
   "outputs": [],
   "source": [
    "df = pd.DataFrame()\n",
    "df['Columns'] = [k.find('td').getText() for k in bs.find_all('tr')]\n",
    "for crypto in ['btc', 'eth', 'ltc']:\n",
    "    df[crypto.upper()] = [p.getText() for p in bs.find_all(class_='c_%s' % crypto)]"
   ]
  },
  {
   "cell_type": "markdown",
   "metadata": {},
   "source": [
    "### Cleaning dataframe"
   ]
  },
  {
   "cell_type": "code",
   "execution_count": 184,
   "metadata": {
    "ExecuteTime": {
     "end_time": "2017-11-16T15:38:44.125527Z",
     "start_time": "2017-11-16T15:38:44.090721Z"
    },
    "scrolled": true
   },
   "outputs": [],
   "source": [
    "stopwords = ['BTC', 'ETH', 'LTC']\n",
    "def remove_chars(x):\n",
    "    num = re.sub('[^0-9]','', x)\n",
    "    if len(str(num)) < 3:\n",
    "        return x\n",
    "    else:\n",
    "        return num\n",
    "    \n",
    "def convert_number(x):\n",
    "    return float(x.replace(',',''))\n",
    "\n",
    "def remove_crypt(x):\n",
    "    for k in stopwords:\n",
    "        if k in x:\n",
    "            return convert_number(x[:x.index(k)])\n",
    "\n",
    "df.loc[0] = df.loc[0].apply(lambda x:x[:x.index('(')] if '(' in x else x)\n",
    "df.loc[1] = df.loc[1].apply(remove_chars)\n",
    "df.loc[2] = df.loc[2].apply(lambda x:convert_number(x[x.find('$')+1:x.find('USD')]) if 'USD' in x else x)\n",
    "df.loc[3] = df.loc[3].apply(lambda x:convert_number(x[x.find('$')+1:x.find('USD')]) if 'USD' in x else x)\n",
    "df.iloc[4, 1:] = df.iloc[4, 1:].apply(convert_number)\n",
    "for p in range(6,10):\n",
    "    df.iloc[p, 1:] = df.iloc[p, 1:].apply(remove_crypt)"
   ]
  },
  {
   "cell_type": "code",
   "execution_count": 185,
   "metadata": {
    "ExecuteTime": {
     "end_time": "2017-11-16T15:38:45.174065Z",
     "start_time": "2017-11-16T15:38:45.162466Z"
    }
   },
   "outputs": [
    {
     "data": {
      "text/html": [
       "<div>\n",
       "<style scoped>\n",
       "    .dataframe tbody tr th:only-of-type {\n",
       "        vertical-align: middle;\n",
       "    }\n",
       "\n",
       "    .dataframe tbody tr th {\n",
       "        vertical-align: top;\n",
       "    }\n",
       "\n",
       "    .dataframe thead th {\n",
       "        text-align: right;\n",
       "    }\n",
       "</style>\n",
       "<table border=\"1\" class=\"dataframe\">\n",
       "  <thead>\n",
       "    <tr style=\"text-align: right;\">\n",
       "      <th></th>\n",
       "      <th>Columns</th>\n",
       "      <th>BTC</th>\n",
       "      <th>ETH</th>\n",
       "      <th>LTC</th>\n",
       "    </tr>\n",
       "  </thead>\n",
       "  <tbody>\n",
       "    <tr>\n",
       "      <th>0</th>\n",
       "      <td></td>\n",
       "      <td>Bitcoin</td>\n",
       "      <td>Ethereum</td>\n",
       "      <td>Litecoin</td>\n",
       "    </tr>\n",
       "    <tr>\n",
       "      <th>1</th>\n",
       "      <td>Total</td>\n",
       "      <td>16669937</td>\n",
       "      <td>95763541</td>\n",
       "      <td>53851932</td>\n",
       "    </tr>\n",
       "    <tr>\n",
       "      <th>2</th>\n",
       "      <td>Price</td>\n",
       "      <td>7486.84</td>\n",
       "      <td>328.14</td>\n",
       "      <td>63.65</td>\n",
       "    </tr>\n",
       "    <tr>\n",
       "      <th>3</th>\n",
       "      <td>Market Capitalization</td>\n",
       "      <td>1.24805e+11</td>\n",
       "      <td>3.14243e+10</td>\n",
       "      <td>3.42755e+09</td>\n",
       "    </tr>\n",
       "    <tr>\n",
       "      <th>4</th>\n",
       "      <td>Transactions last 24h</td>\n",
       "      <td>324631</td>\n",
       "      <td>498898</td>\n",
       "      <td>26347</td>\n",
       "    </tr>\n",
       "    <tr>\n",
       "      <th>5</th>\n",
       "      <td>Transactions avg. per hour</td>\n",
       "      <td>13,526</td>\n",
       "      <td>20,787</td>\n",
       "      <td>1,098</td>\n",
       "    </tr>\n",
       "    <tr>\n",
       "      <th>6</th>\n",
       "      <td>Sent last 24h</td>\n",
       "      <td>4.14134e+06</td>\n",
       "      <td>1.45527e+07</td>\n",
       "      <td>2.38957e+07</td>\n",
       "    </tr>\n",
       "    <tr>\n",
       "      <th>7</th>\n",
       "      <td>Sent avg. per hour</td>\n",
       "      <td>172556</td>\n",
       "      <td>606362</td>\n",
       "      <td>995655</td>\n",
       "    </tr>\n",
       "    <tr>\n",
       "      <th>8</th>\n",
       "      <td>Avg. Transaction Value</td>\n",
       "      <td>12.76</td>\n",
       "      <td>29.17</td>\n",
       "      <td>906.96</td>\n",
       "    </tr>\n",
       "    <tr>\n",
       "      <th>9</th>\n",
       "      <td>Median Transaction Value</td>\n",
       "      <td>0.095</td>\n",
       "      <td>0.052</td>\n",
       "      <td>6.03</td>\n",
       "    </tr>\n",
       "    <tr>\n",
       "      <th>10</th>\n",
       "      <td>Block Time</td>\n",
       "      <td>9m 4s</td>\n",
       "      <td>13.9s</td>\n",
       "      <td>2m 43s</td>\n",
       "    </tr>\n",
       "    <tr>\n",
       "      <th>11</th>\n",
       "      <td>Blocks Count</td>\n",
       "      <td>494,635</td>\n",
       "      <td>4,564,232</td>\n",
       "      <td>1,314,153</td>\n",
       "    </tr>\n",
       "    <tr>\n",
       "      <th>12</th>\n",
       "      <td>Blocks last 24h</td>\n",
       "      <td>158</td>\n",
       "      <td>6,190</td>\n",
       "      <td>530</td>\n",
       "    </tr>\n",
       "    <tr>\n",
       "      <th>13</th>\n",
       "      <td>Blocks avg. per hour</td>\n",
       "      <td>7</td>\n",
       "      <td>258</td>\n",
       "      <td>22</td>\n",
       "    </tr>\n",
       "    <tr>\n",
       "      <th>14</th>\n",
       "      <td>Reward Per Block</td>\n",
       "      <td>12.50+3.44 BTC  ($119,326.87 USD)</td>\n",
       "      <td>3+0.06058+0.01156+0.2777 ETH ($1,099.23 USD)</td>\n",
       "      <td>25+0.09329 LTC  ($1,597.13 USD)</td>\n",
       "    </tr>\n",
       "  </tbody>\n",
       "</table>\n",
       "</div>"
      ],
      "text/plain": [
       "                       Columns                                BTC  \\\n",
       "0                                                         Bitcoin   \n",
       "1                        Total                           16669937   \n",
       "2                        Price                            7486.84   \n",
       "3        Market Capitalization                        1.24805e+11   \n",
       "4        Transactions last 24h                             324631   \n",
       "5   Transactions avg. per hour                             13,526   \n",
       "6                Sent last 24h                        4.14134e+06   \n",
       "7           Sent avg. per hour                             172556   \n",
       "8       Avg. Transaction Value                              12.76   \n",
       "9     Median Transaction Value                              0.095   \n",
       "10                  Block Time                              9m 4s   \n",
       "11               Blocks Count                             494,635   \n",
       "12             Blocks last 24h                                158   \n",
       "13        Blocks avg. per hour                                  7   \n",
       "14            Reward Per Block  12.50+3.44 BTC  ($119,326.87 USD)   \n",
       "\n",
       "                                             ETH  \\\n",
       "0                                       Ethereum   \n",
       "1                                       95763541   \n",
       "2                                         328.14   \n",
       "3                                    3.14243e+10   \n",
       "4                                         498898   \n",
       "5                                         20,787   \n",
       "6                                    1.45527e+07   \n",
       "7                                         606362   \n",
       "8                                          29.17   \n",
       "9                                          0.052   \n",
       "10                                         13.9s   \n",
       "11                                     4,564,232   \n",
       "12                                         6,190   \n",
       "13                                           258   \n",
       "14  3+0.06058+0.01156+0.2777 ETH ($1,099.23 USD)   \n",
       "\n",
       "                                LTC  \n",
       "0                          Litecoin  \n",
       "1                          53851932  \n",
       "2                             63.65  \n",
       "3                       3.42755e+09  \n",
       "4                             26347  \n",
       "5                             1,098  \n",
       "6                       2.38957e+07  \n",
       "7                            995655  \n",
       "8                            906.96  \n",
       "9                              6.03  \n",
       "10                           2m 43s  \n",
       "11                        1,314,153  \n",
       "12                              530  \n",
       "13                               22  \n",
       "14  25+0.09329 LTC  ($1,597.13 USD)  "
      ]
     },
     "execution_count": 185,
     "metadata": {},
     "output_type": "execute_result"
    }
   ],
   "source": [
    "df.head(15)"
   ]
  },
  {
   "cell_type": "code",
   "execution_count": null,
   "metadata": {},
   "outputs": [],
   "source": []
  }
 ],
 "metadata": {
  "kernelspec": {
   "display_name": "Python 3",
   "language": "python",
   "name": "python3"
  },
  "language_info": {
   "codemirror_mode": {
    "name": "ipython",
    "version": 3
   },
   "file_extension": ".py",
   "mimetype": "text/x-python",
   "name": "python",
   "nbconvert_exporter": "python",
   "pygments_lexer": "ipython3",
   "version": "3.6.3"
  },
  "toc": {
   "nav_menu": {},
   "number_sections": true,
   "sideBar": true,
   "skip_h1_title": false,
   "toc_cell": false,
   "toc_position": {},
   "toc_section_display": "block",
   "toc_window_display": false
  }
 },
 "nbformat": 4,
 "nbformat_minor": 2
}
