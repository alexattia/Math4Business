{
 "cells": [
  {
   "cell_type": "code",
   "execution_count": 18,
   "metadata": {
    "ExecuteTime": {
     "end_time": "2017-11-16T14:11:04.674639Z",
     "start_time": "2017-11-16T14:11:04.269952Z"
    }
   },
   "outputs": [],
   "source": [
    "from selenium import webdriver\n",
    "import numpy as np\n",
    "import glob\n",
    "import os\n",
    "import datetime\n",
    "import pandas as pd\n",
    "from bs4 import BeautifulSoup"
   ]
  },
  {
   "cell_type": "code",
   "execution_count": 5,
   "metadata": {
    "ExecuteTime": {
     "end_time": "2017-11-16T13:52:27.350264Z",
     "start_time": "2017-11-16T13:52:25.125486Z"
    }
   },
   "outputs": [],
   "source": [
    "d = webdriver.Chrome()\n",
    "d.get(\"https://bitinfocharts.com/\")"
   ]
  },
  {
   "cell_type": "code",
   "execution_count": 10,
   "metadata": {
    "ExecuteTime": {
     "end_time": "2017-11-16T13:59:25.992806Z",
     "start_time": "2017-11-16T13:59:25.838597Z"
    }
   },
   "outputs": [],
   "source": [
    "table = d.find_element_by_id('main_body').find_element_by_tag_name('tbody').get_attribute('innerHTML')\n",
    "bs = BeautifulSoup(table, \"lxml\")"
   ]
  },
  {
   "cell_type": "code",
   "execution_count": 146,
   "metadata": {
    "ExecuteTime": {
     "end_time": "2017-11-16T15:18:10.739227Z",
     "start_time": "2017-11-16T15:18:10.642359Z"
    },
    "scrolled": true
   },
   "outputs": [],
   "source": [
    "df = pd.DataFrame()\n",
    "df['Columns'] = [k.find('td').getText() for k in bs.find_all('tr')]\n",
    "for crypto in ['btc', 'eth', 'ltc']:\n",
    "    df[crypto.upper()] = [p.getText() for p in bs.find_all(class_='c_%s' % crypto)]"
   ]
  },
  {
   "cell_type": "code",
   "execution_count": 147,
   "metadata": {
    "ExecuteTime": {
     "end_time": "2017-11-16T15:18:11.071936Z",
     "start_time": "2017-11-16T15:18:11.028134Z"
    },
    "scrolled": true
   },
   "outputs": [
    {
     "ename": "ValueError",
     "evalue": "could not convert string to float: ",
     "output_type": "error",
     "traceback": [
      "\u001b[0;31m---------------------------------------------------------------------------\u001b[0m",
      "\u001b[0;31mValueError\u001b[0m                                Traceback (most recent call last)",
      "\u001b[0;32m<ipython-input-147-fc872f3fe5d2>\u001b[0m in \u001b[0;36m<module>\u001b[0;34m()\u001b[0m\n\u001b[1;32m     20\u001b[0m \u001b[0mdf\u001b[0m\u001b[0;34m.\u001b[0m\u001b[0miloc\u001b[0m\u001b[0;34m[\u001b[0m\u001b[0;36m4\u001b[0m\u001b[0;34m,\u001b[0m \u001b[0;36m1\u001b[0m\u001b[0;34m:\u001b[0m\u001b[0;34m]\u001b[0m \u001b[0;34m=\u001b[0m \u001b[0mdf\u001b[0m\u001b[0;34m.\u001b[0m\u001b[0miloc\u001b[0m\u001b[0;34m[\u001b[0m\u001b[0;36m4\u001b[0m\u001b[0;34m,\u001b[0m \u001b[0;36m1\u001b[0m\u001b[0;34m:\u001b[0m\u001b[0;34m]\u001b[0m\u001b[0;34m.\u001b[0m\u001b[0mapply\u001b[0m\u001b[0;34m(\u001b[0m\u001b[0mconvert_number\u001b[0m\u001b[0;34m)\u001b[0m\u001b[0;34m\u001b[0m\u001b[0m\n\u001b[1;32m     21\u001b[0m \u001b[0;32mfor\u001b[0m \u001b[0mp\u001b[0m \u001b[0;32min\u001b[0m \u001b[0mrange\u001b[0m\u001b[0;34m(\u001b[0m\u001b[0;36m6\u001b[0m\u001b[0;34m,\u001b[0m\u001b[0;36m10\u001b[0m\u001b[0;34m)\u001b[0m\u001b[0;34m:\u001b[0m\u001b[0;34m\u001b[0m\u001b[0m\n\u001b[0;32m---> 22\u001b[0;31m     \u001b[0mdf\u001b[0m\u001b[0;34m.\u001b[0m\u001b[0miloc\u001b[0m\u001b[0;34m[\u001b[0m\u001b[0mp\u001b[0m\u001b[0;34m,\u001b[0m \u001b[0;36m1\u001b[0m\u001b[0;34m:\u001b[0m\u001b[0;34m]\u001b[0m \u001b[0;34m=\u001b[0m \u001b[0mdf\u001b[0m\u001b[0;34m.\u001b[0m\u001b[0miloc\u001b[0m\u001b[0;34m[\u001b[0m\u001b[0mp\u001b[0m\u001b[0;34m,\u001b[0m \u001b[0;36m1\u001b[0m\u001b[0;34m:\u001b[0m\u001b[0;34m]\u001b[0m\u001b[0;34m.\u001b[0m\u001b[0mapply\u001b[0m\u001b[0;34m(\u001b[0m\u001b[0mremove_crypt\u001b[0m\u001b[0;34m)\u001b[0m\u001b[0;34m\u001b[0m\u001b[0m\n\u001b[0m",
      "\u001b[0;32m~/Desktop/Work/workenv/lib/python3.6/site-packages/pandas/core/series.py\u001b[0m in \u001b[0;36mapply\u001b[0;34m(self, func, convert_dtype, args, **kwds)\u001b[0m\n\u001b[1;32m   2508\u001b[0m             \u001b[0;32melse\u001b[0m\u001b[0;34m:\u001b[0m\u001b[0;34m\u001b[0m\u001b[0m\n\u001b[1;32m   2509\u001b[0m                 \u001b[0mvalues\u001b[0m \u001b[0;34m=\u001b[0m \u001b[0mself\u001b[0m\u001b[0;34m.\u001b[0m\u001b[0masobject\u001b[0m\u001b[0;34m\u001b[0m\u001b[0m\n\u001b[0;32m-> 2510\u001b[0;31m                 \u001b[0mmapped\u001b[0m \u001b[0;34m=\u001b[0m \u001b[0mlib\u001b[0m\u001b[0;34m.\u001b[0m\u001b[0mmap_infer\u001b[0m\u001b[0;34m(\u001b[0m\u001b[0mvalues\u001b[0m\u001b[0;34m,\u001b[0m \u001b[0mf\u001b[0m\u001b[0;34m,\u001b[0m \u001b[0mconvert\u001b[0m\u001b[0;34m=\u001b[0m\u001b[0mconvert_dtype\u001b[0m\u001b[0;34m)\u001b[0m\u001b[0;34m\u001b[0m\u001b[0m\n\u001b[0m\u001b[1;32m   2511\u001b[0m \u001b[0;34m\u001b[0m\u001b[0m\n\u001b[1;32m   2512\u001b[0m         \u001b[0;32mif\u001b[0m \u001b[0mlen\u001b[0m\u001b[0;34m(\u001b[0m\u001b[0mmapped\u001b[0m\u001b[0;34m)\u001b[0m \u001b[0;32mand\u001b[0m \u001b[0misinstance\u001b[0m\u001b[0;34m(\u001b[0m\u001b[0mmapped\u001b[0m\u001b[0;34m[\u001b[0m\u001b[0;36m0\u001b[0m\u001b[0;34m]\u001b[0m\u001b[0;34m,\u001b[0m \u001b[0mSeries\u001b[0m\u001b[0;34m)\u001b[0m\u001b[0;34m:\u001b[0m\u001b[0;34m\u001b[0m\u001b[0m\n",
      "\u001b[0;32mpandas/_libs/src/inference.pyx\u001b[0m in \u001b[0;36mpandas._libs.lib.map_infer\u001b[0;34m()\u001b[0m\n",
      "\u001b[0;32m<ipython-input-147-fc872f3fe5d2>\u001b[0m in \u001b[0;36mremove_crypt\u001b[0;34m(x)\u001b[0m\n\u001b[1;32m     13\u001b[0m     \u001b[0;32mfor\u001b[0m \u001b[0mk\u001b[0m \u001b[0;32min\u001b[0m \u001b[0mstopwords\u001b[0m\u001b[0;34m:\u001b[0m\u001b[0;34m\u001b[0m\u001b[0m\n\u001b[1;32m     14\u001b[0m         \u001b[0;32mif\u001b[0m \u001b[0mk\u001b[0m \u001b[0;32min\u001b[0m \u001b[0mx\u001b[0m\u001b[0;34m:\u001b[0m\u001b[0;34m\u001b[0m\u001b[0m\n\u001b[0;32m---> 15\u001b[0;31m             \u001b[0;32mreturn\u001b[0m \u001b[0mconvert_number\u001b[0m\u001b[0;34m(\u001b[0m\u001b[0mx\u001b[0m\u001b[0;34m[\u001b[0m\u001b[0;34m:\u001b[0m\u001b[0mx\u001b[0m\u001b[0;34m.\u001b[0m\u001b[0mindex\u001b[0m\u001b[0;34m(\u001b[0m\u001b[0mx\u001b[0m\u001b[0;34m)\u001b[0m\u001b[0;34m]\u001b[0m\u001b[0;34m)\u001b[0m\u001b[0;34m\u001b[0m\u001b[0m\n\u001b[0m\u001b[1;32m     16\u001b[0m \u001b[0;34m\u001b[0m\u001b[0m\n\u001b[1;32m     17\u001b[0m \u001b[0mdf\u001b[0m\u001b[0;34m.\u001b[0m\u001b[0mloc\u001b[0m\u001b[0;34m[\u001b[0m\u001b[0;36m1\u001b[0m\u001b[0;34m]\u001b[0m \u001b[0;34m=\u001b[0m \u001b[0mdf\u001b[0m\u001b[0;34m.\u001b[0m\u001b[0mloc\u001b[0m\u001b[0;34m[\u001b[0m\u001b[0;36m1\u001b[0m\u001b[0;34m]\u001b[0m\u001b[0;34m.\u001b[0m\u001b[0mapply\u001b[0m\u001b[0;34m(\u001b[0m\u001b[0mremove_chars\u001b[0m\u001b[0;34m)\u001b[0m\u001b[0;34m\u001b[0m\u001b[0m\n",
      "\u001b[0;32m<ipython-input-147-fc872f3fe5d2>\u001b[0m in \u001b[0;36mconvert_number\u001b[0;34m(x)\u001b[0m\n\u001b[1;32m      8\u001b[0m \u001b[0;34m\u001b[0m\u001b[0m\n\u001b[1;32m      9\u001b[0m \u001b[0;32mdef\u001b[0m \u001b[0mconvert_number\u001b[0m\u001b[0;34m(\u001b[0m\u001b[0mx\u001b[0m\u001b[0;34m)\u001b[0m\u001b[0;34m:\u001b[0m\u001b[0;34m\u001b[0m\u001b[0m\n\u001b[0;32m---> 10\u001b[0;31m     \u001b[0;32mreturn\u001b[0m \u001b[0mfloat\u001b[0m\u001b[0;34m(\u001b[0m\u001b[0mx\u001b[0m\u001b[0;34m.\u001b[0m\u001b[0mreplace\u001b[0m\u001b[0;34m(\u001b[0m\u001b[0;34m','\u001b[0m\u001b[0;34m,\u001b[0m\u001b[0;34m''\u001b[0m\u001b[0;34m)\u001b[0m\u001b[0;34m)\u001b[0m\u001b[0;34m\u001b[0m\u001b[0m\n\u001b[0m\u001b[1;32m     11\u001b[0m \u001b[0;34m\u001b[0m\u001b[0m\n\u001b[1;32m     12\u001b[0m \u001b[0;32mdef\u001b[0m \u001b[0mremove_crypt\u001b[0m\u001b[0;34m(\u001b[0m\u001b[0mx\u001b[0m\u001b[0;34m)\u001b[0m\u001b[0;34m:\u001b[0m\u001b[0;34m\u001b[0m\u001b[0m\n",
      "\u001b[0;31mValueError\u001b[0m: could not convert string to float: "
     ]
    }
   ],
   "source": [
    "stopwords = ['BTC', 'ETH', 'LTC']\n",
    "def remove_chars(x):\n",
    "    num = re.sub('[^0-9]','', x)\n",
    "    if len(str(num)) < 3:\n",
    "        return x\n",
    "    else:\n",
    "        return num\n",
    "    \n",
    "def convert_number(x):\n",
    "    return float(x.replace(',',''))\n",
    "\n",
    "def remove_crypt(x):\n",
    "    for k in stopwords:\n",
    "        if k in x:\n",
    "            return convert_number(x[:x.index(x)])\n",
    "\n",
    "df.loc[1] = df.loc[1].apply(remove_chars)\n",
    "df.loc[2] = df.loc[2].apply(lambda x:convert_number(x[x.find('$')+1:x.find('USD')]) if 'USD' in x else x)\n",
    "df.loc[3] = df.loc[3].apply(lambda x:convert_number(x[x.find('$')+1:x.find('USD')]) if 'USD' in x else x)\n",
    "df.iloc[4, 1:] = df.iloc[4, 1:].apply(convert_number)\n",
    "for p in range(6,10):\n",
    "    df.iloc[p, 1:] = df.iloc[p, 1:].apply(remove_crypt)"
   ]
  },
  {
   "cell_type": "code",
   "execution_count": 130,
   "metadata": {
    "ExecuteTime": {
     "end_time": "2017-11-16T15:14:32.494839Z",
     "start_time": "2017-11-16T15:14:32.486346Z"
    }
   },
   "outputs": [
    {
     "data": {
      "text/html": [
       "<div>\n",
       "<style scoped>\n",
       "    .dataframe tbody tr th:only-of-type {\n",
       "        vertical-align: middle;\n",
       "    }\n",
       "\n",
       "    .dataframe tbody tr th {\n",
       "        vertical-align: top;\n",
       "    }\n",
       "\n",
       "    .dataframe thead th {\n",
       "        text-align: right;\n",
       "    }\n",
       "</style>\n",
       "<table border=\"1\" class=\"dataframe\">\n",
       "  <thead>\n",
       "    <tr style=\"text-align: right;\">\n",
       "      <th></th>\n",
       "      <th>Columns</th>\n",
       "      <th>BTC</th>\n",
       "      <th>ETH</th>\n",
       "      <th>LTC</th>\n",
       "    </tr>\n",
       "  </thead>\n",
       "  <tbody>\n",
       "    <tr>\n",
       "      <th>6</th>\n",
       "      <td>Sent last 24h</td>\n",
       "      <td>3,952,471 BTC ($29,296,466,364 USD) 23.71% mar...</td>\n",
       "      <td>14,454,733 ETH ($4,746,058,411 USD) 15.09% mar...</td>\n",
       "      <td>22,743,431 LTC ($1,439,506,319 USD) 42.23% mar...</td>\n",
       "    </tr>\n",
       "    <tr>\n",
       "      <th>7</th>\n",
       "      <td>Sent avg. per hour</td>\n",
       "      <td>164,686 BTC ($1,220,686,098 USD)</td>\n",
       "      <td>602,281 ETH ($197,752,434 USD)</td>\n",
       "      <td>947,643 LTC ($59,979,430 USD)</td>\n",
       "    </tr>\n",
       "    <tr>\n",
       "      <th>8</th>\n",
       "      <td>Avg. Transaction Value</td>\n",
       "      <td>12.60 BTC ($93,411 USD)</td>\n",
       "      <td>28.86 ETH ($9,476 USD)</td>\n",
       "      <td>876.23 LTC ($55,459 USD)</td>\n",
       "    </tr>\n",
       "  </tbody>\n",
       "</table>\n",
       "</div>"
      ],
      "text/plain": [
       "                  Columns                                                BTC  \\\n",
       "6           Sent last 24h  3,952,471 BTC ($29,296,466,364 USD) 23.71% mar...   \n",
       "7      Sent avg. per hour                   164,686 BTC ($1,220,686,098 USD)   \n",
       "8  Avg. Transaction Value                            12.60 BTC ($93,411 USD)   \n",
       "\n",
       "                                                 ETH  \\\n",
       "6  14,454,733 ETH ($4,746,058,411 USD) 15.09% mar...   \n",
       "7                     602,281 ETH ($197,752,434 USD)   \n",
       "8                             28.86 ETH ($9,476 USD)   \n",
       "\n",
       "                                                 LTC  \n",
       "6  22,743,431 LTC ($1,439,506,319 USD) 42.23% mar...  \n",
       "7                      947,643 LTC ($59,979,430 USD)  \n",
       "8                           876.23 LTC ($55,459 USD)  "
      ]
     },
     "execution_count": 130,
     "metadata": {},
     "output_type": "execute_result"
    }
   ],
   "source": [
    "df.iloc[6:9]"
   ]
  },
  {
   "cell_type": "code",
   "execution_count": 125,
   "metadata": {
    "ExecuteTime": {
     "end_time": "2017-11-16T15:13:03.161028Z",
     "start_time": "2017-11-16T15:13:03.149910Z"
    }
   },
   "outputs": [
    {
     "data": {
      "text/html": [
       "<div>\n",
       "<style scoped>\n",
       "    .dataframe tbody tr th:only-of-type {\n",
       "        vertical-align: middle;\n",
       "    }\n",
       "\n",
       "    .dataframe tbody tr th {\n",
       "        vertical-align: top;\n",
       "    }\n",
       "\n",
       "    .dataframe thead th {\n",
       "        text-align: right;\n",
       "    }\n",
       "</style>\n",
       "<table border=\"1\" class=\"dataframe\">\n",
       "  <thead>\n",
       "    <tr style=\"text-align: right;\">\n",
       "      <th></th>\n",
       "      <th>Columns</th>\n",
       "      <th>BTC</th>\n",
       "      <th>ETH</th>\n",
       "      <th>LTC</th>\n",
       "    </tr>\n",
       "  </thead>\n",
       "  <tbody>\n",
       "    <tr>\n",
       "      <th>0</th>\n",
       "      <td></td>\n",
       "      <td>Bitcoin(explorer, top100)</td>\n",
       "      <td>Ethereum</td>\n",
       "      <td>Litecoin(explorer, top100)</td>\n",
       "    </tr>\n",
       "    <tr>\n",
       "      <th>1</th>\n",
       "      <td>Total</td>\n",
       "      <td>16669774</td>\n",
       "      <td>95762051</td>\n",
       "      <td>53850732</td>\n",
       "    </tr>\n",
       "    <tr>\n",
       "      <th>2</th>\n",
       "      <td>Price</td>\n",
       "      <td>7412.19</td>\n",
       "      <td>328.34</td>\n",
       "      <td>63.29</td>\n",
       "    </tr>\n",
       "    <tr>\n",
       "      <th>3</th>\n",
       "      <td>Market Capitalization</td>\n",
       "      <td>1.2356e+11</td>\n",
       "      <td>3.14425e+10</td>\n",
       "      <td>3.40839e+09</td>\n",
       "    </tr>\n",
       "    <tr>\n",
       "      <th>4</th>\n",
       "      <td>Transactions last 24h</td>\n",
       "      <td>313631</td>\n",
       "      <td>500844</td>\n",
       "      <td>25956</td>\n",
       "    </tr>\n",
       "    <tr>\n",
       "      <th>5</th>\n",
       "      <td>Transactions avg. per hour</td>\n",
       "      <td>13,068</td>\n",
       "      <td>20,869</td>\n",
       "      <td>1,082</td>\n",
       "    </tr>\n",
       "    <tr>\n",
       "      <th>6</th>\n",
       "      <td>Sent last 24h</td>\n",
       "      <td>3,952,471 BTC ($29,296,466,364 USD) 23.71% mar...</td>\n",
       "      <td>14,454,733 ETH ($4,746,058,411 USD) 15.09% mar...</td>\n",
       "      <td>22,743,431 LTC ($1,439,506,319 USD) 42.23% mar...</td>\n",
       "    </tr>\n",
       "    <tr>\n",
       "      <th>7</th>\n",
       "      <td>Sent avg. per hour</td>\n",
       "      <td>164,686 BTC ($1,220,686,098 USD)</td>\n",
       "      <td>602,281 ETH ($197,752,434 USD)</td>\n",
       "      <td>947,643 LTC ($59,979,430 USD)</td>\n",
       "    </tr>\n",
       "    <tr>\n",
       "      <th>8</th>\n",
       "      <td>Avg. Transaction Value</td>\n",
       "      <td>12.60 BTC ($93,411 USD)</td>\n",
       "      <td>28.86 ETH ($9,476 USD)</td>\n",
       "      <td>876.23 LTC ($55,459 USD)</td>\n",
       "    </tr>\n",
       "    <tr>\n",
       "      <th>9</th>\n",
       "      <td>Median Transaction Value</td>\n",
       "      <td>0.096 BTC ($714.56 USD)</td>\n",
       "      <td>0.052 ETH ($17.2 USD)</td>\n",
       "      <td>6.06 LTC ($383.79 USD)</td>\n",
       "    </tr>\n",
       "    <tr>\n",
       "      <th>10</th>\n",
       "      <td>Block Time</td>\n",
       "      <td>9m 25s</td>\n",
       "      <td>14s</td>\n",
       "      <td>2m 43s</td>\n",
       "    </tr>\n",
       "    <tr>\n",
       "      <th>11</th>\n",
       "      <td>Blocks Count</td>\n",
       "      <td>494,622</td>\n",
       "      <td>4,563,777</td>\n",
       "      <td>1,314,105</td>\n",
       "    </tr>\n",
       "    <tr>\n",
       "      <th>12</th>\n",
       "      <td>Blocks last 24h</td>\n",
       "      <td>151</td>\n",
       "      <td>6,162</td>\n",
       "      <td>530</td>\n",
       "    </tr>\n",
       "    <tr>\n",
       "      <th>13</th>\n",
       "      <td>Blocks avg. per hour</td>\n",
       "      <td>6</td>\n",
       "      <td>257</td>\n",
       "      <td>22</td>\n",
       "    </tr>\n",
       "    <tr>\n",
       "      <th>14</th>\n",
       "      <td>Reward Per Block</td>\n",
       "      <td>12.50+3.55 BTC  ($118,977.62 USD)</td>\n",
       "      <td>3+0.06257+0.01144+0.2751 ETH ($1,099.64 USD)</td>\n",
       "      <td>25+0.09698 LTC  ($1,588.47 USD)</td>\n",
       "    </tr>\n",
       "  </tbody>\n",
       "</table>\n",
       "</div>"
      ],
      "text/plain": [
       "                       Columns  \\\n",
       "0                                \n",
       "1                        Total   \n",
       "2                        Price   \n",
       "3        Market Capitalization   \n",
       "4        Transactions last 24h   \n",
       "5   Transactions avg. per hour   \n",
       "6                Sent last 24h   \n",
       "7           Sent avg. per hour   \n",
       "8       Avg. Transaction Value   \n",
       "9     Median Transaction Value   \n",
       "10                  Block Time   \n",
       "11               Blocks Count    \n",
       "12             Blocks last 24h   \n",
       "13        Blocks avg. per hour   \n",
       "14            Reward Per Block   \n",
       "\n",
       "                                                  BTC  \\\n",
       "0                           Bitcoin(explorer, top100)   \n",
       "1                                            16669774   \n",
       "2                                             7412.19   \n",
       "3                                          1.2356e+11   \n",
       "4                                              313631   \n",
       "5                                              13,068   \n",
       "6   3,952,471 BTC ($29,296,466,364 USD) 23.71% mar...   \n",
       "7                    164,686 BTC ($1,220,686,098 USD)   \n",
       "8                             12.60 BTC ($93,411 USD)   \n",
       "9                             0.096 BTC ($714.56 USD)   \n",
       "10                                             9m 25s   \n",
       "11                                            494,622   \n",
       "12                                                151   \n",
       "13                                                  6   \n",
       "14                  12.50+3.55 BTC  ($118,977.62 USD)   \n",
       "\n",
       "                                                  ETH  \\\n",
       "0                                            Ethereum   \n",
       "1                                            95762051   \n",
       "2                                              328.34   \n",
       "3                                         3.14425e+10   \n",
       "4                                              500844   \n",
       "5                                              20,869   \n",
       "6   14,454,733 ETH ($4,746,058,411 USD) 15.09% mar...   \n",
       "7                      602,281 ETH ($197,752,434 USD)   \n",
       "8                              28.86 ETH ($9,476 USD)   \n",
       "9                               0.052 ETH ($17.2 USD)   \n",
       "10                                                14s   \n",
       "11                                          4,563,777   \n",
       "12                                              6,162   \n",
       "13                                                257   \n",
       "14       3+0.06257+0.01144+0.2751 ETH ($1,099.64 USD)   \n",
       "\n",
       "                                                  LTC  \n",
       "0                          Litecoin(explorer, top100)  \n",
       "1                                            53850732  \n",
       "2                                               63.29  \n",
       "3                                         3.40839e+09  \n",
       "4                                               25956  \n",
       "5                                               1,082  \n",
       "6   22,743,431 LTC ($1,439,506,319 USD) 42.23% mar...  \n",
       "7                       947,643 LTC ($59,979,430 USD)  \n",
       "8                            876.23 LTC ($55,459 USD)  \n",
       "9                              6.06 LTC ($383.79 USD)  \n",
       "10                                             2m 43s  \n",
       "11                                          1,314,105  \n",
       "12                                                530  \n",
       "13                                                 22  \n",
       "14                    25+0.09698 LTC  ($1,588.47 USD)  "
      ]
     },
     "execution_count": 125,
     "metadata": {},
     "output_type": "execute_result"
    }
   ],
   "source": [
    "df.head(15)"
   ]
  },
  {
   "cell_type": "code",
   "execution_count": 116,
   "metadata": {
    "ExecuteTime": {
     "end_time": "2017-11-16T15:04:46.599328Z",
     "start_time": "2017-11-16T15:04:46.594768Z"
    }
   },
   "outputs": [
    {
     "data": {
      "text/plain": [
       "BTC    313,631\n",
       "ETH    500,844\n",
       "LTC     25,956\n",
       "Name: 4, dtype: object"
      ]
     },
     "execution_count": 116,
     "metadata": {},
     "output_type": "execute_result"
    }
   ],
   "source": [
    "df.iloc[4, 1:]"
   ]
  },
  {
   "cell_type": "code",
   "execution_count": null,
   "metadata": {},
   "outputs": [],
   "source": []
  }
 ],
 "metadata": {
  "kernelspec": {
   "display_name": "Python 3",
   "language": "python",
   "name": "python3"
  },
  "language_info": {
   "codemirror_mode": {
    "name": "ipython",
    "version": 3
   },
   "file_extension": ".py",
   "mimetype": "text/x-python",
   "name": "python",
   "nbconvert_exporter": "python",
   "pygments_lexer": "ipython3",
   "version": "3.6.3"
  },
  "toc": {
   "nav_menu": {},
   "number_sections": true,
   "sideBar": true,
   "skip_h1_title": false,
   "toc_cell": false,
   "toc_position": {},
   "toc_section_display": "block",
   "toc_window_display": false
  }
 },
 "nbformat": 4,
 "nbformat_minor": 2
}
