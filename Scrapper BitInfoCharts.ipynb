{
 "cells": [
  {
   "cell_type": "code",
   "execution_count": 148,
   "metadata": {
    "ExecuteTime": {
     "end_time": "2017-11-16T15:26:31.663778Z",
     "start_time": "2017-11-16T15:26:31.659905Z"
    }
   },
   "outputs": [],
   "source": [
    "from selenium import webdriver\n",
    "import numpy as np\n",
    "import glob\n",
    "import os\n",
    "import datetime\n",
    "import pandas as pd\n",
    "from bs4 import BeautifulSoup"
   ]
  },
  {
   "cell_type": "code",
   "execution_count": 149,
   "metadata": {
    "ExecuteTime": {
     "end_time": "2017-11-16T15:26:33.661790Z",
     "start_time": "2017-11-16T15:26:31.995973Z"
    }
   },
   "outputs": [],
   "source": [
    "d = webdriver.Chrome()\n",
    "d.get(\"https://bitinfocharts.com/\")"
   ]
  },
  {
   "cell_type": "code",
   "execution_count": 150,
   "metadata": {
    "ExecuteTime": {
     "end_time": "2017-11-16T15:26:34.134994Z",
     "start_time": "2017-11-16T15:26:33.664025Z"
    }
   },
   "outputs": [],
   "source": [
    "table = d.find_element_by_id('main_body').find_element_by_tag_name('tbody').get_attribute('innerHTML')\n",
    "bs = BeautifulSoup(table, \"lxml\")\n",
    "d.quit()"
   ]
  },
  {
   "cell_type": "code",
   "execution_count": 151,
   "metadata": {
    "ExecuteTime": {
     "end_time": "2017-11-16T15:26:35.503963Z",
     "start_time": "2017-11-16T15:26:35.404323Z"
    },
    "scrolled": true
   },
   "outputs": [],
   "source": [
    "df = pd.DataFrame()\n",
    "df['Columns'] = [k.find('td').getText() for k in bs.find_all('tr')]\n",
    "for crypto in ['btc', 'eth', 'ltc']:\n",
    "    df[crypto.upper()] = [p.getText() for p in bs.find_all(class_='c_%s' % crypto)]"
   ]
  },
  {
   "cell_type": "code",
   "execution_count": 152,
   "metadata": {
    "ExecuteTime": {
     "end_time": "2017-11-16T15:26:38.985976Z",
     "start_time": "2017-11-16T15:26:38.958099Z"
    },
    "scrolled": true
   },
   "outputs": [],
   "source": [
    "stopwords = ['BTC', 'ETH', 'LTC']\n",
    "def remove_chars(x):\n",
    "    num = re.sub('[^0-9]','', x)\n",
    "    if len(str(num)) < 3:\n",
    "        return x\n",
    "    else:\n",
    "        return num\n",
    "    \n",
    "def convert_number(x):\n",
    "    return float(x.replace(',',''))\n",
    "\n",
    "def remove_crypt(x):\n",
    "    for k in stopwords:\n",
    "        if k in x:\n",
    "            return convert_number(x[:x.index(x)])\n",
    "\n",
    "df.loc[1] = df.loc[1].apply(remove_chars)\n",
    "df.loc[2] = df.loc[2].apply(lambda x:convert_number(x[x.find('$')+1:x.find('USD')]) if 'USD' in x else x)\n",
    "df.loc[3] = df.loc[3].apply(lambda x:convert_number(x[x.find('$')+1:x.find('USD')]) if 'USD' in x else x)\n",
    "df.iloc[4, 1:] = df.iloc[4, 1:].apply(convert_number)\n",
    "# for p in range(6,10):\n",
    "#     df.iloc[p, 1:] = df.iloc[p, 1:].apply(remove_crypt)"
   ]
  },
  {
   "cell_type": "code",
   "execution_count": 153,
   "metadata": {
    "ExecuteTime": {
     "end_time": "2017-11-16T15:26:40.688943Z",
     "start_time": "2017-11-16T15:26:40.677310Z"
    }
   },
   "outputs": [
    {
     "data": {
      "text/html": [
       "<div>\n",
       "<style scoped>\n",
       "    .dataframe tbody tr th:only-of-type {\n",
       "        vertical-align: middle;\n",
       "    }\n",
       "\n",
       "    .dataframe tbody tr th {\n",
       "        vertical-align: top;\n",
       "    }\n",
       "\n",
       "    .dataframe thead th {\n",
       "        text-align: right;\n",
       "    }\n",
       "</style>\n",
       "<table border=\"1\" class=\"dataframe\">\n",
       "  <thead>\n",
       "    <tr style=\"text-align: right;\">\n",
       "      <th></th>\n",
       "      <th>Columns</th>\n",
       "      <th>BTC</th>\n",
       "      <th>ETH</th>\n",
       "      <th>LTC</th>\n",
       "    </tr>\n",
       "  </thead>\n",
       "  <tbody>\n",
       "    <tr>\n",
       "      <th>0</th>\n",
       "      <td></td>\n",
       "      <td>Bitcoin(explorer, top100)</td>\n",
       "      <td>Ethereum</td>\n",
       "      <td>Litecoin(explorer, top100)</td>\n",
       "    </tr>\n",
       "    <tr>\n",
       "      <th>1</th>\n",
       "      <td>Total</td>\n",
       "      <td>16669912</td>\n",
       "      <td>95763345</td>\n",
       "      <td>53851682</td>\n",
       "    </tr>\n",
       "    <tr>\n",
       "      <th>2</th>\n",
       "      <td>Price</td>\n",
       "      <td>7496.62</td>\n",
       "      <td>328.37</td>\n",
       "      <td>63.61</td>\n",
       "    </tr>\n",
       "    <tr>\n",
       "      <th>3</th>\n",
       "      <td>Market Capitalization</td>\n",
       "      <td>1.24968e+11</td>\n",
       "      <td>3.14459e+10</td>\n",
       "      <td>3.42557e+09</td>\n",
       "    </tr>\n",
       "    <tr>\n",
       "      <th>4</th>\n",
       "      <td>Transactions last 24h</td>\n",
       "      <td>323324</td>\n",
       "      <td>500260</td>\n",
       "      <td>26160</td>\n",
       "    </tr>\n",
       "    <tr>\n",
       "      <th>5</th>\n",
       "      <td>Transactions avg. per hour</td>\n",
       "      <td>13,472</td>\n",
       "      <td>20,844</td>\n",
       "      <td>1,090</td>\n",
       "    </tr>\n",
       "    <tr>\n",
       "      <th>6</th>\n",
       "      <td>Sent last 24h</td>\n",
       "      <td>4,132,571 BTC ($30,980,323,710 USD) 24.79% mar...</td>\n",
       "      <td>14,589,636 ETH ($4,790,806,624 USD) 15.24% mar...</td>\n",
       "      <td>23,777,756 LTC ($1,512,533,531 USD) 44.15% mar...</td>\n",
       "    </tr>\n",
       "    <tr>\n",
       "      <th>7</th>\n",
       "      <td>Sent avg. per hour</td>\n",
       "      <td>172,190 BTC ($1,290,846,821 USD)</td>\n",
       "      <td>607,902 ETH ($199,616,943 USD)</td>\n",
       "      <td>990,740 LTC ($63,022,230 USD)</td>\n",
       "    </tr>\n",
       "    <tr>\n",
       "      <th>8</th>\n",
       "      <td>Avg. Transaction Value</td>\n",
       "      <td>12.78 BTC ($95,818 USD)</td>\n",
       "      <td>29.16 ETH ($9,577 USD)</td>\n",
       "      <td>908.94 LTC ($57,819 USD)</td>\n",
       "    </tr>\n",
       "    <tr>\n",
       "      <th>9</th>\n",
       "      <td>Median Transaction Value</td>\n",
       "      <td>0.095 BTC ($714.56 USD)</td>\n",
       "      <td>0.052 ETH ($17.2 USD)</td>\n",
       "      <td>6.03 LTC ($383.79 USD)</td>\n",
       "    </tr>\n",
       "    <tr>\n",
       "      <th>10</th>\n",
       "      <td>Block Time</td>\n",
       "      <td>9m 4s</td>\n",
       "      <td>14s</td>\n",
       "      <td>2m 45s</td>\n",
       "    </tr>\n",
       "    <tr>\n",
       "      <th>11</th>\n",
       "      <td>Blocks Count</td>\n",
       "      <td>494,635</td>\n",
       "      <td>4,564,162</td>\n",
       "      <td>1,314,143</td>\n",
       "    </tr>\n",
       "    <tr>\n",
       "      <th>12</th>\n",
       "      <td>Blocks last 24h</td>\n",
       "      <td>159</td>\n",
       "      <td>6,177</td>\n",
       "      <td>522</td>\n",
       "    </tr>\n",
       "    <tr>\n",
       "      <th>13</th>\n",
       "      <td>Blocks avg. per hour</td>\n",
       "      <td>7</td>\n",
       "      <td>257</td>\n",
       "      <td>22</td>\n",
       "    </tr>\n",
       "    <tr>\n",
       "      <th>14</th>\n",
       "      <td>Reward Per Block</td>\n",
       "      <td>12.50+3.45 BTC  ($119,592.17 USD)</td>\n",
       "      <td>3+0.06121+0.01146+0.275 ETH ($1,099.26 USD)</td>\n",
       "      <td>25+0.09504 LTC  ($1,596.33 USD)</td>\n",
       "    </tr>\n",
       "  </tbody>\n",
       "</table>\n",
       "</div>"
      ],
      "text/plain": [
       "                       Columns  \\\n",
       "0                                \n",
       "1                        Total   \n",
       "2                        Price   \n",
       "3        Market Capitalization   \n",
       "4        Transactions last 24h   \n",
       "5   Transactions avg. per hour   \n",
       "6                Sent last 24h   \n",
       "7           Sent avg. per hour   \n",
       "8       Avg. Transaction Value   \n",
       "9     Median Transaction Value   \n",
       "10                  Block Time   \n",
       "11               Blocks Count    \n",
       "12             Blocks last 24h   \n",
       "13        Blocks avg. per hour   \n",
       "14            Reward Per Block   \n",
       "\n",
       "                                                  BTC  \\\n",
       "0                           Bitcoin(explorer, top100)   \n",
       "1                                            16669912   \n",
       "2                                             7496.62   \n",
       "3                                         1.24968e+11   \n",
       "4                                              323324   \n",
       "5                                              13,472   \n",
       "6   4,132,571 BTC ($30,980,323,710 USD) 24.79% mar...   \n",
       "7                    172,190 BTC ($1,290,846,821 USD)   \n",
       "8                             12.78 BTC ($95,818 USD)   \n",
       "9                             0.095 BTC ($714.56 USD)   \n",
       "10                                              9m 4s   \n",
       "11                                            494,635   \n",
       "12                                                159   \n",
       "13                                                  7   \n",
       "14                  12.50+3.45 BTC  ($119,592.17 USD)   \n",
       "\n",
       "                                                  ETH  \\\n",
       "0                                            Ethereum   \n",
       "1                                            95763345   \n",
       "2                                              328.37   \n",
       "3                                         3.14459e+10   \n",
       "4                                              500260   \n",
       "5                                              20,844   \n",
       "6   14,589,636 ETH ($4,790,806,624 USD) 15.24% mar...   \n",
       "7                      607,902 ETH ($199,616,943 USD)   \n",
       "8                              29.16 ETH ($9,577 USD)   \n",
       "9                               0.052 ETH ($17.2 USD)   \n",
       "10                                                14s   \n",
       "11                                          4,564,162   \n",
       "12                                              6,177   \n",
       "13                                                257   \n",
       "14        3+0.06121+0.01146+0.275 ETH ($1,099.26 USD)   \n",
       "\n",
       "                                                  LTC  \n",
       "0                          Litecoin(explorer, top100)  \n",
       "1                                            53851682  \n",
       "2                                               63.61  \n",
       "3                                         3.42557e+09  \n",
       "4                                               26160  \n",
       "5                                               1,090  \n",
       "6   23,777,756 LTC ($1,512,533,531 USD) 44.15% mar...  \n",
       "7                       990,740 LTC ($63,022,230 USD)  \n",
       "8                            908.94 LTC ($57,819 USD)  \n",
       "9                              6.03 LTC ($383.79 USD)  \n",
       "10                                             2m 45s  \n",
       "11                                          1,314,143  \n",
       "12                                                522  \n",
       "13                                                 22  \n",
       "14                    25+0.09504 LTC  ($1,596.33 USD)  "
      ]
     },
     "execution_count": 153,
     "metadata": {},
     "output_type": "execute_result"
    }
   ],
   "source": [
    "df.head(15)"
   ]
  },
  {
   "cell_type": "code",
   "execution_count": null,
   "metadata": {},
   "outputs": [],
   "source": []
  }
 ],
 "metadata": {
  "kernelspec": {
   "display_name": "Python 3",
   "language": "python",
   "name": "python3"
  },
  "language_info": {
   "codemirror_mode": {
    "name": "ipython",
    "version": 3
   },
   "file_extension": ".py",
   "mimetype": "text/x-python",
   "name": "python",
   "nbconvert_exporter": "python",
   "pygments_lexer": "ipython3",
   "version": "3.6.3"
  },
  "toc": {
   "nav_menu": {},
   "number_sections": true,
   "sideBar": true,
   "skip_h1_title": false,
   "toc_cell": false,
   "toc_position": {},
   "toc_section_display": "block",
   "toc_window_display": false
  }
 },
 "nbformat": 4,
 "nbformat_minor": 2
}
