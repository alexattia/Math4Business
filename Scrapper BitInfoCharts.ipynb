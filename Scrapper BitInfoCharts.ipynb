{
 "cells": [
  {
   "cell_type": "code",
   "execution_count": 123,
   "metadata": {
    "ExecuteTime": {
     "end_time": "2017-11-20T17:34:21.650677Z",
     "start_time": "2017-11-20T17:34:21.638969Z"
    }
   },
   "outputs": [],
   "source": [
    "from selenium import webdriver\n",
    "import numpy as np\n",
    "import glob\n",
    "import os\n",
    "import datetime\n",
    "import pandas as pd\n",
    "import re\n",
    "import matplotlib.pyplot as plt\n",
    "from bs4 import BeautifulSoup\n",
    "%matplotlib inline"
   ]
  },
  {
   "cell_type": "markdown",
   "metadata": {},
   "source": [
    "### Scrapping website"
   ]
  },
  {
   "cell_type": "code",
   "execution_count": 2,
   "metadata": {
    "ExecuteTime": {
     "end_time": "2017-11-20T16:35:03.369095Z",
     "start_time": "2017-11-20T16:34:58.469925Z"
    }
   },
   "outputs": [],
   "source": [
    "d = webdriver.PhantomJS()\n",
    "d.get(\"https://bitinfocharts.com/\")"
   ]
  },
  {
   "cell_type": "code",
   "execution_count": 4,
   "metadata": {
    "ExecuteTime": {
     "end_time": "2017-11-20T16:35:05.049976Z",
     "start_time": "2017-11-20T16:35:04.919619Z"
    }
   },
   "outputs": [],
   "source": [
    "table = d.find_element_by_id('main_body').find_element_by_tag_name('tbody').get_attribute('innerHTML')\n",
    "bs = BeautifulSoup(table, \"lxml\")\n",
    "d.quit()"
   ]
  },
  {
   "cell_type": "code",
   "execution_count": 5,
   "metadata": {
    "ExecuteTime": {
     "end_time": "2017-11-20T16:35:05.165508Z",
     "start_time": "2017-11-20T16:35:05.051477Z"
    },
    "scrolled": true
   },
   "outputs": [],
   "source": [
    "df = pd.DataFrame()\n",
    "df['Columns'] = [k.find('td').getText() for k in bs.find_all('tr')]\n",
    "for crypto in ['btc', 'eth', 'ltc']:\n",
    "    df[crypto.upper()] = [p.getText() for p in bs.find_all(class_='c_%s' % crypto)]"
   ]
  },
  {
   "cell_type": "markdown",
   "metadata": {},
   "source": [
    "### Cleaning dataframe"
   ]
  },
  {
   "cell_type": "code",
   "execution_count": 6,
   "metadata": {
    "ExecuteTime": {
     "end_time": "2017-11-20T16:35:06.917308Z",
     "start_time": "2017-11-20T16:35:06.861438Z"
    },
    "scrolled": true
   },
   "outputs": [],
   "source": [
    "df2 = df.copy()\n",
    "stopwords = ['BTC', 'ETH', 'LTC']\n",
    "def remove_chars(x):\n",
    "    num = re.sub('[^0-9]','', x)\n",
    "    if len(str(num)) < 3:\n",
    "        return x\n",
    "    else:\n",
    "        return num\n",
    "    \n",
    "def convert_number(x):\n",
    "    return float(x.replace(',',''))\n",
    "\n",
    "def remove_crypt(x):\n",
    "    for k in stopwords:\n",
    "        if k in x:\n",
    "            return convert_number(x[:x.index(k)])\n",
    "        \n",
    "def clean_reward(x):\n",
    "    for k in stopwords:\n",
    "        if k in x:\n",
    "            x = x[:x.index(k)]\n",
    "            return tuple(map(float, x.replace(',','').split('+')))\n",
    "\n",
    "df2.loc[0] = df2.loc[0].apply(lambda x:x[:x.index('(')] if '(' in x else x)\n",
    "df2.loc[1] = df2.loc[1].apply(remove_chars)\n",
    "df2.loc[2] = df2.loc[2].apply(lambda x:convert_number(x[x.find('$')+1:x.find('USD')]) if 'USD' in x else x)\n",
    "df2.loc[3] = df2.loc[3].apply(lambda x:convert_number(x[x.find('$')+1:x.find('USD')]) if 'USD' in x else x)\n",
    "df2.iloc[4, 1:] = df2.iloc[4, 1:].apply(convert_number)\n",
    "for p in range(6,10):\n",
    "    df2.iloc[p, 1:] = df2.iloc[p, 1:].apply(remove_crypt)\n",
    "df2.iloc[14, 1:] = df2.iloc[14, 1:].apply(clean_reward)\n",
    "df2.iloc[15, 1:] = df2.iloc[15, 1:].apply(clean_reward)"
   ]
  },
  {
   "cell_type": "code",
   "execution_count": 7,
   "metadata": {
    "ExecuteTime": {
     "end_time": "2017-11-20T16:35:08.217996Z",
     "start_time": "2017-11-20T16:35:08.201012Z"
    }
   },
   "outputs": [
    {
     "data": {
      "text/html": [
       "<div>\n",
       "<style scoped>\n",
       "    .dataframe tbody tr th:only-of-type {\n",
       "        vertical-align: middle;\n",
       "    }\n",
       "\n",
       "    .dataframe tbody tr th {\n",
       "        vertical-align: top;\n",
       "    }\n",
       "\n",
       "    .dataframe thead th {\n",
       "        text-align: right;\n",
       "    }\n",
       "</style>\n",
       "<table border=\"1\" class=\"dataframe\">\n",
       "  <thead>\n",
       "    <tr style=\"text-align: right;\">\n",
       "      <th></th>\n",
       "      <th>Columns</th>\n",
       "      <th>BTC</th>\n",
       "      <th>ETH</th>\n",
       "      <th>LTC</th>\n",
       "    </tr>\n",
       "  </thead>\n",
       "  <tbody>\n",
       "    <tr>\n",
       "      <th>0</th>\n",
       "      <td></td>\n",
       "      <td>Bitcoin</td>\n",
       "      <td>Ethereum</td>\n",
       "      <td>Litecoin</td>\n",
       "    </tr>\n",
       "    <tr>\n",
       "      <th>1</th>\n",
       "      <td>Total</td>\n",
       "      <td>16677874</td>\n",
       "      <td>95845937</td>\n",
       "      <td>53914808</td>\n",
       "    </tr>\n",
       "    <tr>\n",
       "      <th>2</th>\n",
       "      <td>Price</td>\n",
       "      <td>8227.86</td>\n",
       "      <td>363.16</td>\n",
       "      <td>71.99</td>\n",
       "    </tr>\n",
       "    <tr>\n",
       "      <th>3</th>\n",
       "      <td>Market Capitalization</td>\n",
       "      <td>1.37223e+11</td>\n",
       "      <td>3.48073e+10</td>\n",
       "      <td>3.88108e+09</td>\n",
       "    </tr>\n",
       "    <tr>\n",
       "      <th>4</th>\n",
       "      <td>Transactions last 24h</td>\n",
       "      <td>300690</td>\n",
       "      <td>506225</td>\n",
       "      <td>27056</td>\n",
       "    </tr>\n",
       "    <tr>\n",
       "      <th>5</th>\n",
       "      <td>Transactions avg. per hour</td>\n",
       "      <td>12,529</td>\n",
       "      <td>21,093</td>\n",
       "      <td>1,127</td>\n",
       "    </tr>\n",
       "    <tr>\n",
       "      <th>6</th>\n",
       "      <td>Sent last 24h</td>\n",
       "      <td>4.98305e+06</td>\n",
       "      <td>1.54418e+07</td>\n",
       "      <td>1.80088e+07</td>\n",
       "    </tr>\n",
       "    <tr>\n",
       "      <th>7</th>\n",
       "      <td>Sent avg. per hour</td>\n",
       "      <td>207627</td>\n",
       "      <td>643408</td>\n",
       "      <td>750365</td>\n",
       "    </tr>\n",
       "    <tr>\n",
       "      <th>8</th>\n",
       "      <td>Avg. Transaction Value</td>\n",
       "      <td>16.57</td>\n",
       "      <td>30.5</td>\n",
       "      <td>665.61</td>\n",
       "    </tr>\n",
       "    <tr>\n",
       "      <th>9</th>\n",
       "      <td>Median Transaction Value</td>\n",
       "      <td>0.066</td>\n",
       "      <td>0.02</td>\n",
       "      <td>5.15</td>\n",
       "    </tr>\n",
       "    <tr>\n",
       "      <th>10</th>\n",
       "      <td>Block Time</td>\n",
       "      <td>8m 47s</td>\n",
       "      <td>13.7s</td>\n",
       "      <td>2m 2s</td>\n",
       "    </tr>\n",
       "    <tr>\n",
       "      <th>11</th>\n",
       "      <td>Blocks Count</td>\n",
       "      <td>495,270</td>\n",
       "      <td>4,589,394</td>\n",
       "      <td>1,316,669</td>\n",
       "    </tr>\n",
       "    <tr>\n",
       "      <th>12</th>\n",
       "      <td>Blocks last 24h</td>\n",
       "      <td>163</td>\n",
       "      <td>6,277</td>\n",
       "      <td>706</td>\n",
       "    </tr>\n",
       "    <tr>\n",
       "      <th>13</th>\n",
       "      <td>Blocks avg. per hour</td>\n",
       "      <td>7</td>\n",
       "      <td>262</td>\n",
       "      <td>29</td>\n",
       "    </tr>\n",
       "    <tr>\n",
       "      <th>14</th>\n",
       "      <td>Reward Per Block</td>\n",
       "      <td>(12.5, 1.85)</td>\n",
       "      <td>(3.0, 0.05269, 0.01144, 0.2744)</td>\n",
       "      <td>(25.0, 0.06007)</td>\n",
       "    </tr>\n",
       "    <tr>\n",
       "      <th>15</th>\n",
       "      <td>Reward last 24h</td>\n",
       "      <td>(2038.0, 301.39)</td>\n",
       "      <td>(18831.0, 330.71, 71.81, 1722.0)</td>\n",
       "      <td>(17650.0, 42.41)</td>\n",
       "    </tr>\n",
       "    <tr>\n",
       "      <th>16</th>\n",
       "      <td>Difficulty</td>\n",
       "      <td>1,364,422,081,125</td>\n",
       "      <td>1.463 P +5.03% in 24 hours</td>\n",
       "      <td>1,113,473 +3.62% in 24 hours</td>\n",
       "    </tr>\n",
       "    <tr>\n",
       "      <th>17</th>\n",
       "      <td>Hashrate</td>\n",
       "      <td>10.505 Ehash/s +3.79% in 24 hours</td>\n",
       "      <td>119.282 Thash/s +7.15% in 24 hours</td>\n",
       "      <td>38.603 Thash/s +13.53% in 24 hours</td>\n",
       "    </tr>\n",
       "    <tr>\n",
       "      <th>18</th>\n",
       "      <td>Mining Profitability</td>\n",
       "      <td>1.8318 USD/Day for 1 THash/s</td>\n",
       "      <td>0.0638 USD/Day for 1 MHash/s</td>\n",
       "      <td>0.033 USD/Day for 1 MHash/s</td>\n",
       "    </tr>\n",
       "    <tr>\n",
       "      <th>19</th>\n",
       "      <td>Top 100 Richest</td>\n",
       "      <td>2,892,735 BTC ($23,801,011,662 USD) 17.34% Total</td>\n",
       "      <td></td>\n",
       "      <td>25,041,383 LTC ($1,802,612,441 USD) 46.45% Total</td>\n",
       "    </tr>\n",
       "  </tbody>\n",
       "</table>\n",
       "</div>"
      ],
      "text/plain": [
       "                       Columns  \\\n",
       "0                                \n",
       "1                        Total   \n",
       "2                        Price   \n",
       "3        Market Capitalization   \n",
       "4        Transactions last 24h   \n",
       "5   Transactions avg. per hour   \n",
       "6                Sent last 24h   \n",
       "7           Sent avg. per hour   \n",
       "8       Avg. Transaction Value   \n",
       "9     Median Transaction Value   \n",
       "10                  Block Time   \n",
       "11               Blocks Count    \n",
       "12             Blocks last 24h   \n",
       "13        Blocks avg. per hour   \n",
       "14            Reward Per Block   \n",
       "15             Reward last 24h   \n",
       "16                  Difficulty   \n",
       "17                    Hashrate   \n",
       "18        Mining Profitability   \n",
       "19             Top 100 Richest   \n",
       "\n",
       "                                                 BTC  \\\n",
       "0                                            Bitcoin   \n",
       "1                                           16677874   \n",
       "2                                            8227.86   \n",
       "3                                        1.37223e+11   \n",
       "4                                             300690   \n",
       "5                                             12,529   \n",
       "6                                        4.98305e+06   \n",
       "7                                             207627   \n",
       "8                                              16.57   \n",
       "9                                              0.066   \n",
       "10                                            8m 47s   \n",
       "11                                           495,270   \n",
       "12                                               163   \n",
       "13                                                 7   \n",
       "14                                      (12.5, 1.85)   \n",
       "15                                  (2038.0, 301.39)   \n",
       "16                                 1,364,422,081,125   \n",
       "17                 10.505 Ehash/s +3.79% in 24 hours   \n",
       "18                      1.8318 USD/Day for 1 THash/s   \n",
       "19  2,892,735 BTC ($23,801,011,662 USD) 17.34% Total   \n",
       "\n",
       "                                   ETH  \\\n",
       "0                             Ethereum   \n",
       "1                             95845937   \n",
       "2                               363.16   \n",
       "3                          3.48073e+10   \n",
       "4                               506225   \n",
       "5                               21,093   \n",
       "6                          1.54418e+07   \n",
       "7                               643408   \n",
       "8                                 30.5   \n",
       "9                                 0.02   \n",
       "10                               13.7s   \n",
       "11                           4,589,394   \n",
       "12                               6,277   \n",
       "13                                 262   \n",
       "14     (3.0, 0.05269, 0.01144, 0.2744)   \n",
       "15    (18831.0, 330.71, 71.81, 1722.0)   \n",
       "16          1.463 P +5.03% in 24 hours   \n",
       "17  119.282 Thash/s +7.15% in 24 hours   \n",
       "18        0.0638 USD/Day for 1 MHash/s   \n",
       "19                                       \n",
       "\n",
       "                                                 LTC  \n",
       "0                                           Litecoin  \n",
       "1                                           53914808  \n",
       "2                                              71.99  \n",
       "3                                        3.88108e+09  \n",
       "4                                              27056  \n",
       "5                                              1,127  \n",
       "6                                        1.80088e+07  \n",
       "7                                             750365  \n",
       "8                                             665.61  \n",
       "9                                               5.15  \n",
       "10                                             2m 2s  \n",
       "11                                         1,316,669  \n",
       "12                                               706  \n",
       "13                                                29  \n",
       "14                                   (25.0, 0.06007)  \n",
       "15                                  (17650.0, 42.41)  \n",
       "16                      1,113,473 +3.62% in 24 hours  \n",
       "17                38.603 Thash/s +13.53% in 24 hours  \n",
       "18                       0.033 USD/Day for 1 MHash/s  \n",
       "19  25,041,383 LTC ($1,802,612,441 USD) 46.45% Total  "
      ]
     },
     "execution_count": 7,
     "metadata": {},
     "output_type": "execute_result"
    }
   ],
   "source": [
    "df2.head(20)"
   ]
  },
  {
   "cell_type": "markdown",
   "metadata": {},
   "source": [
    "### BTC.com"
   ]
  },
  {
   "cell_type": "code",
   "execution_count": 8,
   "metadata": {
    "ExecuteTime": {
     "end_time": "2017-11-20T16:40:42.913975Z",
     "start_time": "2017-11-20T16:40:42.911733Z"
    }
   },
   "outputs": [],
   "source": [
    "# site : blockchain info / btc.com\n",
    "# scrapper les N derniers blocks pour avoir les transactions fees "
   ]
  },
  {
   "cell_type": "code",
   "execution_count": 85,
   "metadata": {
    "ExecuteTime": {
     "end_time": "2017-11-20T17:17:07.606575Z",
     "start_time": "2017-11-20T17:17:07.596426Z"
    }
   },
   "outputs": [],
   "source": [
    "year = '2017'\n",
    "month = '11'\n",
    "def scrap_one_day(year, month, day):\n",
    "    d = webdriver.Chrome()\n",
    "    d.get(\"https://btc.com/block?date=%s-%s-%s\" % (year, month, day))\n",
    "    table = d.find_element_by_class_name('table').find_element_by_tag_name('tbody').get_attribute('innerHTML')\n",
    "    bs = BeautifulSoup(table, \"lxml\")\n",
    "    d.quit()\n",
    "    row = bs.find_all('tr')[1:]\n",
    "    cols = pd.Series([k.getText() for k in bs.find_all('tr')[0].find_all('th')][:-1]), \n",
    "    values = pd.DataFrame([[k.getText().strip() for k in r.find_all('td')][:-1] for r in row])\n",
    "    return cols, values"
   ]
  },
  {
   "cell_type": "code",
   "execution_count": 88,
   "metadata": {
    "ExecuteTime": {
     "end_time": "2017-11-20T17:20:13.598190Z",
     "start_time": "2017-11-20T17:17:43.353218Z"
    },
    "scrolled": true
   },
   "outputs": [],
   "source": [
    "df = pd.DataFrame()\n",
    "for dd in range(20, 10, -1):\n",
    "    cols, temp = scrap_one_day(year, month, dd)\n",
    "    df = pd.concat([df, temp])\n",
    "df = df.reset_index(drop=True)\n",
    "df.columns = cols[0]"
   ]
  },
  {
   "cell_type": "code",
   "execution_count": 116,
   "metadata": {
    "ExecuteTime": {
     "end_time": "2017-11-20T17:31:54.691553Z",
     "start_time": "2017-11-20T17:31:54.686755Z"
    }
   },
   "outputs": [],
   "source": [
    "for col in ['Tx Count', 'Stripped Size(B)', 'Size(B)', 'Weight', 'Avg Fee Per Tx']:\n",
    "    df[col] = df[col].apply(lambda x:float(x.replace(',', '')))\n",
    "df['RewardFee'] = df['Reward'].apply(lambda x:float(x[x.index('+ ')+2:x.index(' BTC')]))"
   ]
  },
  {
   "cell_type": "code",
   "execution_count": 105,
   "metadata": {
    "ExecuteTime": {
     "end_time": "2017-11-20T17:26:30.020843Z",
     "start_time": "2017-11-20T17:26:30.016194Z"
    }
   },
   "outputs": [
    {
     "data": {
      "text/plain": [
       "(3.4709752479650722, 2.2374125970988969)"
      ]
     },
     "execution_count": 105,
     "metadata": {},
     "output_type": "execute_result"
    }
   ],
   "source": [
    "df.RewardFee.mean(), df.RewardFee.std()"
   ]
  },
  {
   "cell_type": "code",
   "execution_count": 121,
   "metadata": {
    "ExecuteTime": {
     "end_time": "2017-11-20T17:34:05.024326Z",
     "start_time": "2017-11-20T17:34:05.017454Z"
    }
   },
   "outputs": [
    {
     "data": {
      "text/plain": [
       "(2046.7646153846154, 558.25387618798743)"
      ]
     },
     "execution_count": 121,
     "metadata": {},
     "output_type": "execute_result"
    }
   ],
   "source": [
    "# Remove block with only one transaction\n",
    "df[df['Tx Count'] > 10]['Tx Count'].mean(), df[df['Tx Count'] > 10]['Tx Count'].std()"
   ]
  },
  {
   "cell_type": "code",
   "execution_count": 124,
   "metadata": {
    "ExecuteTime": {
     "end_time": "2017-11-20T17:35:01.452654Z",
     "start_time": "2017-11-20T17:35:01.288223Z"
    }
   },
   "outputs": [
    {
     "data": {
      "text/plain": [
       "<matplotlib.axes._subplots.AxesSubplot at 0x1120174a8>"
      ]
     },
     "execution_count": 124,
     "metadata": {},
     "output_type": "execute_result"
    },
    {
     "data": {
      "image/png": "[encoded data removed]",
      "text/plain": [
       "<matplotlib.figure.Figure at 0x111e32588>"
      ]
     },
     "metadata": {},
     "output_type": "display_data"
    }
   ],
   "source": [
    "df[df['Tx Count'] > 10]['Tx Count'].plot()"
   ]
  },
  {
   "cell_type": "code",
   "execution_count": 125,
   "metadata": {
    "ExecuteTime": {
     "end_time": "2017-11-20T17:35:31.247979Z",
     "start_time": "2017-11-20T17:35:31.101714Z"
    }
   },
   "outputs": [
    {
     "data": {
      "text/plain": [
       "<matplotlib.axes._subplots.AxesSubplot at 0x112003f98>"
      ]
     },
     "execution_count": 125,
     "metadata": {},
     "output_type": "execute_result"
    },
    {
     "data": {
      "image/png": "[encoded data removed]",
      "text/plain": [
       "<matplotlib.figure.Figure at 0x1118106a0>"
      ]
     },
     "metadata": {},
     "output_type": "display_data"
    }
   ],
   "source": [
    "df.RewardFee.plot()"
   ]
  },
  {
   "cell_type": "code",
   "execution_count": null,
   "metadata": {},
   "outputs": [],
   "source": []
  }
 ],
 "metadata": {
  "kernelspec": {
   "display_name": "Python 3",
   "language": "python",
   "name": "python3"
  },
  "language_info": {
   "codemirror_mode": {
    "name": "ipython",
    "version": 3
   },
   "file_extension": ".py",
   "mimetype": "text/x-python",
   "name": "python",
   "nbconvert_exporter": "python",
   "pygments_lexer": "ipython3",
   "version": "3.6.3"
  },
  "toc": {
   "nav_menu": {},
   "number_sections": true,
   "sideBar": true,
   "skip_h1_title": false,
   "toc_cell": false,
   "toc_position": {},
   "toc_section_display": "block",
   "toc_window_display": false
  }
 },
 "nbformat": 4,
 "nbformat_minor": 2
}
