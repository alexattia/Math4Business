{
 "cells": [
  {
   "cell_type": "code",
   "execution_count": 100,
   "metadata": {
    "ExecuteTime": {
     "end_time": "2017-12-11T18:05:51.574346Z",
     "start_time": "2017-12-11T18:05:51.561543Z"
    },
    "collapsed": true
   },
   "outputs": [],
   "source": [
    "import parserM4\n",
    "import pandas as pd\n",
    "import numpy as np\n",
    "import imp\n",
    "import matplotlib.pyplot as plt\n",
    "%matplotlib inline\n",
    "imp.reload(parserM4)\n",
    "import model"
   ]
  },
  {
   "cell_type": "code",
   "execution_count": 101,
   "metadata": {
    "ExecuteTime": {
     "end_time": "2017-12-11T18:06:24.637498Z",
     "start_time": "2017-12-11T18:05:55.970982Z"
    },
    "scrolled": false
   },
   "outputs": [
    {
     "name": "stdout",
     "output_type": "stream",
     "text": [
      "BTC & ETH blockchains parsed!\n",
      "LTC blockchain parsed!\n",
      "DASH blockchain parsed!\n",
      "DOGE blockchain parsed!\n"
     ]
    }
   ],
   "source": [
    "m = model.Model()"
   ]
  },
  {
   "cell_type": "code",
   "execution_count": 102,
   "metadata": {
    "ExecuteTime": {
     "end_time": "2017-12-11T18:06:31.213005Z",
     "start_time": "2017-12-11T18:06:31.198749Z"
    }
   },
   "outputs": [
    {
     "data": {
      "text/html": [
       "<div>\n",
       "<style scoped>\n",
       "    .dataframe tbody tr th:only-of-type {\n",
       "        vertical-align: middle;\n",
       "    }\n",
       "\n",
       "    .dataframe tbody tr th {\n",
       "        vertical-align: top;\n",
       "    }\n",
       "\n",
       "    .dataframe thead th {\n",
       "        text-align: right;\n",
       "    }\n",
       "</style>\n",
       "<table border=\"1\" class=\"dataframe\">\n",
       "  <thead>\n",
       "    <tr style=\"text-align: right;\">\n",
       "      <th></th>\n",
       "      <th>BTC</th>\n",
       "      <th>ETH</th>\n",
       "      <th>LTC</th>\n",
       "      <th>DASH</th>\n",
       "      <th>DOGE</th>\n",
       "    </tr>\n",
       "  </thead>\n",
       "  <tbody>\n",
       "    <tr>\n",
       "      <th>Currency_Market</th>\n",
       "      <td>16721686</td>\n",
       "      <td>96276334</td>\n",
       "      <td>54256933</td>\n",
       "      <td>7748554</td>\n",
       "      <td>NaN</td>\n",
       "    </tr>\n",
       "    <tr>\n",
       "      <th>Price_USD</th>\n",
       "      <td>16417.5</td>\n",
       "      <td>472.98</td>\n",
       "      <td>194.86</td>\n",
       "      <td>745.08</td>\n",
       "      <td>NaN</td>\n",
       "    </tr>\n",
       "    <tr>\n",
       "      <th>Market_Capitalization</th>\n",
       "      <td>2.74529e+11</td>\n",
       "      <td>4.55368e+10</td>\n",
       "      <td>1.05728e+10</td>\n",
       "      <td>5.77332e+09</td>\n",
       "      <td>NaN</td>\n",
       "    </tr>\n",
       "    <tr>\n",
       "      <th>Transactions_Mean</th>\n",
       "      <td>2081.39</td>\n",
       "      <td>165.2</td>\n",
       "      <td>144.2</td>\n",
       "      <td>9.6</td>\n",
       "      <td>6.600000e+00</td>\n",
       "    </tr>\n",
       "    <tr>\n",
       "      <th>Transactions_Std</th>\n",
       "      <td>638.414</td>\n",
       "      <td>60.8913</td>\n",
       "      <td>187.891</td>\n",
       "      <td>10.5972</td>\n",
       "      <td>4.335897e+00</td>\n",
       "    </tr>\n",
       "    <tr>\n",
       "      <th>Transactions_Percentile95</th>\n",
       "      <td>2828.5</td>\n",
       "      <td>259.6</td>\n",
       "      <td>400</td>\n",
       "      <td>24.2</td>\n",
       "      <td>1.160000e+01</td>\n",
       "    </tr>\n",
       "    <tr>\n",
       "      <th>AvgFee/Tx_Mean</th>\n",
       "      <td>0.000659174</td>\n",
       "      <td>0.00242398</td>\n",
       "      <td>0.00127957</td>\n",
       "      <td>0.000240738</td>\n",
       "      <td>1.220000e+00</td>\n",
       "    </tr>\n",
       "    <tr>\n",
       "      <th>AvgFee/Tx_Std</th>\n",
       "      <td>0.000255927</td>\n",
       "      <td>0.00122969</td>\n",
       "      <td>0.00062149</td>\n",
       "      <td>0.000180974</td>\n",
       "      <td>5.454865e-01</td>\n",
       "    </tr>\n",
       "    <tr>\n",
       "      <th>AvgFee/Tx_Percentile95</th>\n",
       "      <td>0.0010584</td>\n",
       "      <td>0.00510065</td>\n",
       "      <td>0.00191513</td>\n",
       "      <td>0.000481774</td>\n",
       "      <td>1.946667e+00</td>\n",
       "    </tr>\n",
       "    <tr>\n",
       "      <th>RewardFee_Mean</th>\n",
       "      <td>2.63238</td>\n",
       "      <td>0.356354</td>\n",
       "      <td>0.221121</td>\n",
       "      <td>0.00209561</td>\n",
       "      <td>9.400000e+00</td>\n",
       "    </tr>\n",
       "    <tr>\n",
       "      <th>RewardFee_Std</th>\n",
       "      <td>1.02195</td>\n",
       "      <td>0.174886</td>\n",
       "      <td>0.307113</td>\n",
       "      <td>0.00192937</td>\n",
       "      <td>8.648699e+00</td>\n",
       "    </tr>\n",
       "    <tr>\n",
       "      <th>RewardFee_Percentile95</th>\n",
       "      <td>4.22595</td>\n",
       "      <td>0.579576</td>\n",
       "      <td>0.637202</td>\n",
       "      <td>0.00463304</td>\n",
       "      <td>2.000000e+01</td>\n",
       "    </tr>\n",
       "    <tr>\n",
       "      <th>WaitingTime_Mean</th>\n",
       "      <td>491.608</td>\n",
       "      <td>17.0833</td>\n",
       "      <td>98</td>\n",
       "      <td>73.5</td>\n",
       "      <td>3.275000e+01</td>\n",
       "    </tr>\n",
       "    <tr>\n",
       "      <th>WaitingTime_Std</th>\n",
       "      <td>424.245</td>\n",
       "      <td>11.5492</td>\n",
       "      <td>133.639</td>\n",
       "      <td>79.0295</td>\n",
       "      <td>1.436141e+01</td>\n",
       "    </tr>\n",
       "    <tr>\n",
       "      <th>WaitingTime_Percentile95</th>\n",
       "      <td>1326.1</td>\n",
       "      <td>38.7</td>\n",
       "      <td>259.95</td>\n",
       "      <td>168.75</td>\n",
       "      <td>4.805000e+01</td>\n",
       "    </tr>\n",
       "    <tr>\n",
       "      <th>Liquidity_</th>\n",
       "      <td>5.89649e-05</td>\n",
       "      <td>0.000112531</td>\n",
       "      <td>1.47965e-05</td>\n",
       "      <td>1.23631e-06</td>\n",
       "      <td>NaN</td>\n",
       "    </tr>\n",
       "    <tr>\n",
       "      <th>Cost_</th>\n",
       "      <td>7.57211</td>\n",
       "      <td>1.52291</td>\n",
       "      <td>0.147907</td>\n",
       "      <td>0.233594</td>\n",
       "      <td>NaN</td>\n",
       "    </tr>\n",
       "    <tr>\n",
       "      <th>Processing time_</th>\n",
       "      <td>2.75592e-10</td>\n",
       "      <td>5.33096e-06</td>\n",
       "      <td>1.44361e-07</td>\n",
       "      <td>2.58687e-07</td>\n",
       "      <td>7.601107e-07</td>\n",
       "    </tr>\n",
       "    <tr>\n",
       "      <th>Liquidity</th>\n",
       "      <td>0.523986</td>\n",
       "      <td>1</td>\n",
       "      <td>0.131487</td>\n",
       "      <td>0.0109863</td>\n",
       "      <td>NaN</td>\n",
       "    </tr>\n",
       "    <tr>\n",
       "      <th>Processing time</th>\n",
       "      <td>5.16965e-05</td>\n",
       "      <td>1</td>\n",
       "      <td>0.0270798</td>\n",
       "      <td>0.0485255</td>\n",
       "      <td>1.425843e-01</td>\n",
       "    </tr>\n",
       "    <tr>\n",
       "      <th>Cost</th>\n",
       "      <td>0.200961</td>\n",
       "      <td>0.839296</td>\n",
       "      <td>0.984392</td>\n",
       "      <td>0.97535</td>\n",
       "      <td>NaN</td>\n",
       "    </tr>\n",
       "    <tr>\n",
       "      <th>Score</th>\n",
       "      <td>0.102913</td>\n",
       "      <td>0.964288</td>\n",
       "      <td>0.251417</td>\n",
       "      <td>0.250316</td>\n",
       "      <td>NaN</td>\n",
       "    </tr>\n",
       "  </tbody>\n",
       "</table>\n",
       "</div>"
      ],
      "text/plain": [
       "                                   BTC          ETH          LTC         DASH  \\\n",
       "Currency_Market               16721686     96276334     54256933      7748554   \n",
       "Price_USD                      16417.5       472.98       194.86       745.08   \n",
       "Market_Capitalization      2.74529e+11  4.55368e+10  1.05728e+10  5.77332e+09   \n",
       "Transactions_Mean              2081.39        165.2        144.2          9.6   \n",
       "Transactions_Std               638.414      60.8913      187.891      10.5972   \n",
       "Transactions_Percentile95       2828.5        259.6          400         24.2   \n",
       "AvgFee/Tx_Mean             0.000659174   0.00242398   0.00127957  0.000240738   \n",
       "AvgFee/Tx_Std              0.000255927   0.00122969   0.00062149  0.000180974   \n",
       "AvgFee/Tx_Percentile95       0.0010584   0.00510065   0.00191513  0.000481774   \n",
       "RewardFee_Mean                 2.63238     0.356354     0.221121   0.00209561   \n",
       "RewardFee_Std                  1.02195     0.174886     0.307113   0.00192937   \n",
       "RewardFee_Percentile95         4.22595     0.579576     0.637202   0.00463304   \n",
       "WaitingTime_Mean               491.608      17.0833           98         73.5   \n",
       "WaitingTime_Std                424.245      11.5492      133.639      79.0295   \n",
       "WaitingTime_Percentile95        1326.1         38.7       259.95       168.75   \n",
       "Liquidity_                 5.89649e-05  0.000112531  1.47965e-05  1.23631e-06   \n",
       "Cost_                          7.57211      1.52291     0.147907     0.233594   \n",
       "Processing time_           2.75592e-10  5.33096e-06  1.44361e-07  2.58687e-07   \n",
       "Liquidity                     0.523986            1     0.131487    0.0109863   \n",
       "Processing time            5.16965e-05            1    0.0270798    0.0485255   \n",
       "Cost                          0.200961     0.839296     0.984392      0.97535   \n",
       "Score                         0.102913     0.964288     0.251417     0.250316   \n",
       "\n",
       "                                   DOGE  \n",
       "Currency_Market                     NaN  \n",
       "Price_USD                           NaN  \n",
       "Market_Capitalization               NaN  \n",
       "Transactions_Mean          6.600000e+00  \n",
       "Transactions_Std           4.335897e+00  \n",
       "Transactions_Percentile95  1.160000e+01  \n",
       "AvgFee/Tx_Mean             1.220000e+00  \n",
       "AvgFee/Tx_Std              5.454865e-01  \n",
       "AvgFee/Tx_Percentile95     1.946667e+00  \n",
       "RewardFee_Mean             9.400000e+00  \n",
       "RewardFee_Std              8.648699e+00  \n",
       "RewardFee_Percentile95     2.000000e+01  \n",
       "WaitingTime_Mean           3.275000e+01  \n",
       "WaitingTime_Std            1.436141e+01  \n",
       "WaitingTime_Percentile95   4.805000e+01  \n",
       "Liquidity_                          NaN  \n",
       "Cost_                               NaN  \n",
       "Processing time_           7.601107e-07  \n",
       "Liquidity                           NaN  \n",
       "Processing time            1.425843e-01  \n",
       "Cost                                NaN  \n",
       "Score                               NaN  "
      ]
     },
     "execution_count": 102,
     "metadata": {},
     "output_type": "execute_result"
    }
   ],
   "source": [
    "m.model"
   ]
  },
  {
   "cell_type": "code",
   "execution_count": 103,
   "metadata": {
    "ExecuteTime": {
     "end_time": "2017-12-11T18:06:33.853715Z",
     "start_time": "2017-12-11T18:06:33.727337Z"
    }
   },
   "outputs": [
    {
     "data": {
      "text/plain": [
       "<matplotlib.axes._subplots.AxesSubplot at 0x1161f28d0>"
      ]
     },
     "execution_count": 103,
     "metadata": {},
     "output_type": "execute_result"
    },
    {
     "data": {
      "image/png": "[encoded data removed]",
      "text/plain": [
       "<matplotlib.figure.Figure at 0x115176160>"
      ]
     },
     "metadata": {},
     "output_type": "display_data"
    }
   ],
   "source": [
    "m.model.loc['Score'].plot('bar')"
   ]
  },
  {
   "cell_type": "code",
   "execution_count": null,
   "metadata": {
    "collapsed": true
   },
   "outputs": [],
   "source": []
  }
 ],
 "metadata": {
  "kernelspec": {
   "display_name": "Python 3",
   "language": "python",
   "name": "python3"
  },
  "language_info": {
   "codemirror_mode": {
    "name": "ipython",
    "version": 3
   },
   "file_extension": ".py",
   "mimetype": "text/x-python",
   "name": "python",
   "nbconvert_exporter": "python",
   "pygments_lexer": "ipython3",
   "version": "3.6.2"
  },
  "toc": {
   "nav_menu": {},
   "number_sections": true,
   "sideBar": true,
   "skip_h1_title": false,
   "toc_cell": false,
   "toc_position": {},
   "toc_section_display": "block",
   "toc_window_display": false
  }
 },
 "nbformat": 4,
 "nbformat_minor": 2
}
